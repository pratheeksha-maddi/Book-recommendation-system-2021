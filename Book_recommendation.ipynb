{
  "cells": [
    {
      "cell_type": "markdown",
      "metadata": {
        "id": "view-in-github",
        "colab_type": "text"
      },
      "source": [
        "<a href=\"https://colab.research.google.com/github/pratheeksha-maddi/Book-recommendation-system-2021/blob/main/Book_recommendation.ipynb\" target=\"_parent\"><img src=\"https://colab.research.google.com/assets/colab-badge.svg\" alt=\"Open In Colab\"/></a>"
      ]
    },
    {
      "cell_type": "markdown",
      "metadata": {
        "id": "ZB-gon2nRfGl"
      },
      "source": [
        "# Import packages, read datasets"
      ]
    },
    {
      "cell_type": "code",
      "execution_count": null,
      "metadata": {
        "id": "Kt_vL8rpRfGo"
      },
      "outputs": [],
      "source": [
        "import pandas as pd\n",
        "import numpy as np\n",
        "import seaborn as sns\n",
        "import matplotlib.pyplot as plt\n",
        "import datetime   #yes\n",
        "\n",
        "import warnings\n",
        "warnings.filterwarnings('ignore')"
      ]
    },
    {
      "cell_type": "code",
      "execution_count": null,
      "metadata": {
        "id": "bANsgkB72imU"
      },
      "outputs": [],
      "source": [
        "url_books = 'https://raw.githubusercontent.com/sruja08/book_recom_dataset/main/books.csv'\n",
        "url_ratings = 'https://raw.githubusercontent.com/sruja08/book_recom_dataset/main/ratings.csv'\n",
        "url_book_tags = 'https://raw.githubusercontent.com/sruja08/book_recom_dataset/main/book_tags.csv'\n",
        "url_tags = 'https://raw.githubusercontent.com/sruja08/book_recom_dataset/main/tags.csv'\n"
      ]
    },
    {
      "cell_type": "markdown",
      "metadata": {
        "id": "j67r3qIY85CM"
      },
      "source": [
        "Overview of Dataset\n"
      ]
    },
    {
      "cell_type": "code",
      "execution_count": null,
      "metadata": {
        "id": "vX4504CFRfGp"
      },
      "outputs": [],
      "source": [
        "books = pd.read_csv(url_books)\n",
        "ratings = pd.read_csv(url_ratings)\n",
        "book_tags = pd.read_csv(url_book_tags)\n",
        "tags = pd.read_csv(url_tags)"
      ]
    },
    {
      "cell_type": "code",
      "execution_count": null,
      "metadata": {
        "colab": {
          "base_uri": "https://localhost:8080/",
          "height": 433
        },
        "id": "JIr-8YO-RfGq",
        "outputId": "d54dd2f2-0a8c-4536-a547-e6c044c167b5"
      },
      "outputs": [
        {
          "data": {
            "text/html": [
              "<div>\n",
              "<style scoped>\n",
              "    .dataframe tbody tr th:only-of-type {\n",
              "        vertical-align: middle;\n",
              "    }\n",
              "\n",
              "    .dataframe tbody tr th {\n",
              "        vertical-align: top;\n",
              "    }\n",
              "\n",
              "    .dataframe thead th {\n",
              "        text-align: right;\n",
              "    }\n",
              "</style>\n",
              "<table border=\"1\" class=\"dataframe\">\n",
              "  <thead>\n",
              "    <tr style=\"text-align: right;\">\n",
              "      <th></th>\n",
              "      <th>id</th>\n",
              "      <th>book_id</th>\n",
              "      <th>best_book_id</th>\n",
              "      <th>work_id</th>\n",
              "      <th>books_count</th>\n",
              "      <th>isbn</th>\n",
              "      <th>isbn13</th>\n",
              "      <th>authors</th>\n",
              "      <th>original_publication_year</th>\n",
              "      <th>original_title</th>\n",
              "      <th>title</th>\n",
              "      <th>language_code</th>\n",
              "      <th>average_rating</th>\n",
              "      <th>ratings_count</th>\n",
              "      <th>work_ratings_count</th>\n",
              "      <th>work_text_reviews_count</th>\n",
              "      <th>ratings_1</th>\n",
              "      <th>ratings_2</th>\n",
              "      <th>ratings_3</th>\n",
              "      <th>ratings_4</th>\n",
              "      <th>ratings_5</th>\n",
              "      <th>image_url</th>\n",
              "      <th>small_image_url</th>\n",
              "    </tr>\n",
              "  </thead>\n",
              "  <tbody>\n",
              "    <tr>\n",
              "      <th>0</th>\n",
              "      <td>1</td>\n",
              "      <td>2767052</td>\n",
              "      <td>2767052</td>\n",
              "      <td>2792775</td>\n",
              "      <td>272</td>\n",
              "      <td>439023483</td>\n",
              "      <td>9.780439e+12</td>\n",
              "      <td>Suzanne Collins</td>\n",
              "      <td>2008.0</td>\n",
              "      <td>The Hunger Games</td>\n",
              "      <td>The Hunger Games (The Hunger Games, #1)</td>\n",
              "      <td>eng</td>\n",
              "      <td>4.34</td>\n",
              "      <td>4780653</td>\n",
              "      <td>4942365</td>\n",
              "      <td>155254</td>\n",
              "      <td>66715</td>\n",
              "      <td>127936</td>\n",
              "      <td>560092</td>\n",
              "      <td>1481305</td>\n",
              "      <td>2706317</td>\n",
              "      <td>https://images.gr-assets.com/books/1447303603m...</td>\n",
              "      <td>https://images.gr-assets.com/books/1447303603s...</td>\n",
              "    </tr>\n",
              "    <tr>\n",
              "      <th>1</th>\n",
              "      <td>2</td>\n",
              "      <td>3</td>\n",
              "      <td>3</td>\n",
              "      <td>4640799</td>\n",
              "      <td>491</td>\n",
              "      <td>439554934</td>\n",
              "      <td>9.780440e+12</td>\n",
              "      <td>J.K. Rowling, Mary GrandPré</td>\n",
              "      <td>1997.0</td>\n",
              "      <td>Harry Potter and the Philosopher's Stone</td>\n",
              "      <td>Harry Potter and the Sorcerer's Stone (Harry P...</td>\n",
              "      <td>eng</td>\n",
              "      <td>4.44</td>\n",
              "      <td>4602479</td>\n",
              "      <td>4800065</td>\n",
              "      <td>75867</td>\n",
              "      <td>75504</td>\n",
              "      <td>101676</td>\n",
              "      <td>455024</td>\n",
              "      <td>1156318</td>\n",
              "      <td>3011543</td>\n",
              "      <td>https://images.gr-assets.com/books/1474154022m...</td>\n",
              "      <td>https://images.gr-assets.com/books/1474154022s...</td>\n",
              "    </tr>\n",
              "    <tr>\n",
              "      <th>2</th>\n",
              "      <td>3</td>\n",
              "      <td>41865</td>\n",
              "      <td>41865</td>\n",
              "      <td>3212258</td>\n",
              "      <td>226</td>\n",
              "      <td>316015849</td>\n",
              "      <td>9.780316e+12</td>\n",
              "      <td>Stephenie Meyer</td>\n",
              "      <td>2005.0</td>\n",
              "      <td>Twilight</td>\n",
              "      <td>Twilight (Twilight, #1)</td>\n",
              "      <td>en-US</td>\n",
              "      <td>3.57</td>\n",
              "      <td>3866839</td>\n",
              "      <td>3916824</td>\n",
              "      <td>95009</td>\n",
              "      <td>456191</td>\n",
              "      <td>436802</td>\n",
              "      <td>793319</td>\n",
              "      <td>875073</td>\n",
              "      <td>1355439</td>\n",
              "      <td>https://images.gr-assets.com/books/1361039443m...</td>\n",
              "      <td>https://images.gr-assets.com/books/1361039443s...</td>\n",
              "    </tr>\n",
              "    <tr>\n",
              "      <th>3</th>\n",
              "      <td>4</td>\n",
              "      <td>2657</td>\n",
              "      <td>2657</td>\n",
              "      <td>3275794</td>\n",
              "      <td>487</td>\n",
              "      <td>61120081</td>\n",
              "      <td>9.780061e+12</td>\n",
              "      <td>Harper Lee</td>\n",
              "      <td>1960.0</td>\n",
              "      <td>To Kill a Mockingbird</td>\n",
              "      <td>To Kill a Mockingbird</td>\n",
              "      <td>eng</td>\n",
              "      <td>4.25</td>\n",
              "      <td>3198671</td>\n",
              "      <td>3340896</td>\n",
              "      <td>72586</td>\n",
              "      <td>60427</td>\n",
              "      <td>117415</td>\n",
              "      <td>446835</td>\n",
              "      <td>1001952</td>\n",
              "      <td>1714267</td>\n",
              "      <td>https://images.gr-assets.com/books/1361975680m...</td>\n",
              "      <td>https://images.gr-assets.com/books/1361975680s...</td>\n",
              "    </tr>\n",
              "    <tr>\n",
              "      <th>4</th>\n",
              "      <td>5</td>\n",
              "      <td>4671</td>\n",
              "      <td>4671</td>\n",
              "      <td>245494</td>\n",
              "      <td>1356</td>\n",
              "      <td>743273567</td>\n",
              "      <td>9.780743e+12</td>\n",
              "      <td>F. Scott Fitzgerald</td>\n",
              "      <td>1925.0</td>\n",
              "      <td>The Great Gatsby</td>\n",
              "      <td>The Great Gatsby</td>\n",
              "      <td>eng</td>\n",
              "      <td>3.89</td>\n",
              "      <td>2683664</td>\n",
              "      <td>2773745</td>\n",
              "      <td>51992</td>\n",
              "      <td>86236</td>\n",
              "      <td>197621</td>\n",
              "      <td>606158</td>\n",
              "      <td>936012</td>\n",
              "      <td>947718</td>\n",
              "      <td>https://images.gr-assets.com/books/1490528560m...</td>\n",
              "      <td>https://images.gr-assets.com/books/1490528560s...</td>\n",
              "    </tr>\n",
              "  </tbody>\n",
              "</table>\n",
              "</div>"
            ],
            "text/plain": [
              "   id  ...                                    small_image_url\n",
              "0   1  ...  https://images.gr-assets.com/books/1447303603s...\n",
              "1   2  ...  https://images.gr-assets.com/books/1474154022s...\n",
              "2   3  ...  https://images.gr-assets.com/books/1361039443s...\n",
              "3   4  ...  https://images.gr-assets.com/books/1361975680s...\n",
              "4   5  ...  https://images.gr-assets.com/books/1490528560s...\n",
              "\n",
              "[5 rows x 23 columns]"
            ]
          },
          "execution_count": 4,
          "metadata": {
            "tags": []
          },
          "output_type": "execute_result"
        }
      ],
      "source": [
        "books.head()"
      ]
    },
    {
      "cell_type": "markdown",
      "metadata": {
        "id": "7hQ0GW-X9GEc"
      },
      "source": [
        "BOOKS\n"
      ]
    },
    {
      "cell_type": "code",
      "execution_count": null,
      "metadata": {
        "colab": {
          "base_uri": "https://localhost:8080/"
        },
        "id": "WQ1as1ZO8trB",
        "outputId": "95876e99-bf30-48ef-c2b6-33725b92cfe6"
      },
      "outputs": [
        {
          "data": {
            "text/plain": [
              "(10000, 23)"
            ]
          },
          "execution_count": 5,
          "metadata": {
            "tags": []
          },
          "output_type": "execute_result"
        }
      ],
      "source": [
        "books.shape"
      ]
    },
    {
      "cell_type": "code",
      "execution_count": null,
      "metadata": {
        "colab": {
          "base_uri": "https://localhost:8080/"
        },
        "id": "YZ7OZMsc9T-l",
        "outputId": "ec1045b5-629b-4841-9a31-37cbd33522f4"
      },
      "outputs": [
        {
          "name": "stdout",
          "output_type": "stream",
          "text": [
            "<class 'pandas.core.frame.DataFrame'>\n",
            "RangeIndex: 10000 entries, 0 to 9999\n",
            "Data columns (total 23 columns):\n",
            " #   Column                     Non-Null Count  Dtype  \n",
            "---  ------                     --------------  -----  \n",
            " 0   id                         10000 non-null  int64  \n",
            " 1   book_id                    10000 non-null  int64  \n",
            " 2   best_book_id               10000 non-null  int64  \n",
            " 3   work_id                    10000 non-null  int64  \n",
            " 4   books_count                10000 non-null  int64  \n",
            " 5   isbn                       9300 non-null   object \n",
            " 6   isbn13                     9415 non-null   float64\n",
            " 7   authors                    10000 non-null  object \n",
            " 8   original_publication_year  9979 non-null   float64\n",
            " 9   original_title             9415 non-null   object \n",
            " 10  title                      10000 non-null  object \n",
            " 11  language_code              8916 non-null   object \n",
            " 12  average_rating             10000 non-null  float64\n",
            " 13  ratings_count              10000 non-null  int64  \n",
            " 14  work_ratings_count         10000 non-null  int64  \n",
            " 15  work_text_reviews_count    10000 non-null  int64  \n",
            " 16  ratings_1                  10000 non-null  int64  \n",
            " 17  ratings_2                  10000 non-null  int64  \n",
            " 18  ratings_3                  10000 non-null  int64  \n",
            " 19  ratings_4                  10000 non-null  int64  \n",
            " 20  ratings_5                  10000 non-null  int64  \n",
            " 21  image_url                  10000 non-null  object \n",
            " 22  small_image_url            10000 non-null  object \n",
            "dtypes: float64(3), int64(13), object(7)\n",
            "memory usage: 1.8+ MB\n"
          ]
        }
      ],
      "source": [
        "books.info()"
      ]
    },
    {
      "cell_type": "code",
      "execution_count": null,
      "metadata": {
        "colab": {
          "base_uri": "https://localhost:8080/"
        },
        "id": "Ex7omxfJRfGr",
        "outputId": "0c6088a2-a21a-4d42-8072-c8729e2decd9"
      },
      "outputs": [
        {
          "name": "stdout",
          "output_type": "stream",
          "text": [
            "Collecting surprise\n",
            "  Downloading https://files.pythonhosted.org/packages/61/de/e5cba8682201fcf9c3719a6fdda95693468ed061945493dea2dd37c5618b/surprise-0.1-py2.py3-none-any.whl\n",
            "Collecting scikit-surprise\n",
            "\u001b[?25l  Downloading https://files.pythonhosted.org/packages/97/37/5d334adaf5ddd65da99fc65f6507e0e4599d092ba048f4302fe8775619e8/scikit-surprise-1.1.1.tar.gz (11.8MB)\n",
            "\u001b[K     |████████████████████████████████| 11.8MB 252kB/s \n",
            "\u001b[?25hRequirement already satisfied: joblib>=0.11 in /usr/local/lib/python3.7/dist-packages (from scikit-surprise->surprise) (1.0.1)\n",
            "Requirement already satisfied: numpy>=1.11.2 in /usr/local/lib/python3.7/dist-packages (from scikit-surprise->surprise) (1.19.5)\n",
            "Requirement already satisfied: scipy>=1.0.0 in /usr/local/lib/python3.7/dist-packages (from scikit-surprise->surprise) (1.4.1)\n",
            "Requirement already satisfied: six>=1.10.0 in /usr/local/lib/python3.7/dist-packages (from scikit-surprise->surprise) (1.15.0)\n",
            "Building wheels for collected packages: scikit-surprise\n"
          ]
        }
      ],
      "source": [
        "pip install surprise"
      ]
    },
    {
      "cell_type": "code",
      "execution_count": null,
      "metadata": {
        "id": "YVwYrEEBRfGs"
      },
      "outputs": [],
      "source": [
        "from surprise import Reader, Dataset, SVD\n",
        "from surprise.model_selection import cross_validate"
      ]
    },
    {
      "cell_type": "markdown",
      "metadata": {
        "id": "6tJhKyD8RfGt"
      },
      "source": [
        "# Data cleaning"
      ]
    },
    {
      "cell_type": "code",
      "execution_count": null,
      "metadata": {
        "id": "7n20fvjORfGt"
      },
      "outputs": [],
      "source": [
        "books['original_publication_year'] = books['original_publication_year'].fillna(-1).apply(lambda x: int(x) if x != -1 else -1)"
      ]
    },
    {
      "cell_type": "code",
      "execution_count": null,
      "metadata": {
        "id": "1YfYgmX8RfGt"
      },
      "outputs": [],
      "source": [
        "ratings_rmv_duplicates = ratings.drop_duplicates()\n",
        "unwanted_users = ratings_rmv_duplicates.groupby('user_id')['user_id'].count()\n",
        "unwanted_users = unwanted_users[unwanted_users < 3]\n",
        "unwanted_ratings = ratings_rmv_duplicates[ratings_rmv_duplicates.user_id.isin(unwanted_users.index)]\n",
        "new_ratings = ratings_rmv_duplicates.drop(unwanted_ratings.index)"
      ]
    },
    {
      "cell_type": "code",
      "execution_count": null,
      "metadata": {
        "id": "EBjV6CaxRfGu"
      },
      "outputs": [],
      "source": [
        "new_ratings['title'] = books.set_index('id').title.loc[new_ratings.book_id].values\n",
        "new_ratings.head(10)"
      ]
    },
    {
      "cell_type": "markdown",
      "metadata": {
        "id": "od311UVH_ZK_"
      },
      "source": [
        "DATA Analysis\n"
      ]
    },
    {
      "cell_type": "code",
      "execution_count": null,
      "metadata": {
        "id": "UoHYA79J_b4v"
      },
      "outputs": [],
      "source": [
        "def plot_books_by(df, col, n_rows=10):\n",
        "    plt.figure(figsize=(12,7))\n",
        "    ax = sns.barplot(x=df[col].head(n_rows), y=df['title'].head(n_rows), data=df)\n",
        "    plt.title('Best ' + str(n_rows) + ' books by ' + col.replace('_',' ').capitalize(), weight='bold')\n",
        "    plt.xlabel('Score of ' + col)\n",
        "    plt.ylabel('Book Title')"
      ]
    },
    {
      "cell_type": "code",
      "execution_count": null,
      "metadata": {
        "id": "_4uL0Fw5_jSU"
      },
      "outputs": [],
      "source": [
        "important_columns = ['title','authors','average_rating','ratings_count','work_text_reviews_count']"
      ]
    },
    {
      "cell_type": "code",
      "execution_count": null,
      "metadata": {
        "id": "nYXxIvyD_lgx"
      },
      "outputs": [],
      "source": [
        "#Top Rated Books\n",
        "book_sorted_ratings = books[books['ratings_count']>=1000].sort_values('average_rating', ascending=False)\n",
        "book_sorted_ratings[important_columns].head(5)"
      ]
    },
    {
      "cell_type": "code",
      "execution_count": null,
      "metadata": {
        "id": "UzU9BfZx_lo1"
      },
      "outputs": [],
      "source": [
        "plot_books_by(book_sorted_ratings, 'average_rating', 10)"
      ]
    },
    {
      "cell_type": "code",
      "execution_count": null,
      "metadata": {
        "id": "Elf5LxnN_lr8"
      },
      "outputs": [],
      "source": [
        "#Top Popular Books\n",
        "book_sorted_ratings_count = books.sort_values('ratings_count', ascending=False)\n",
        "book_sorted_ratings_count[important_columns].head(10)"
      ]
    },
    {
      "cell_type": "code",
      "execution_count": null,
      "metadata": {
        "id": "RlYBjWkV_lvH"
      },
      "outputs": [],
      "source": [
        "plot_books_by(book_sorted_ratings_count, 'ratings_count', 15)"
      ]
    },
    {
      "cell_type": "code",
      "execution_count": null,
      "metadata": {
        "id": "tAAiHXSq_lyE"
      },
      "outputs": [],
      "source": [
        "#Top Text-Reviewed Books\n",
        "book_sorted_reviews_count = books[books['ratings_count']>=1000].sort_values('work_text_reviews_count', ascending=False)\n",
        "book_sorted_reviews_count[important_columns].head()"
      ]
    },
    {
      "cell_type": "code",
      "execution_count": null,
      "metadata": {
        "id": "ETCzdIbJ_l1B"
      },
      "outputs": [],
      "source": [
        "plot_books_by(book_sorted_reviews_count, 'work_text_reviews_count', 5)"
      ]
    },
    {
      "cell_type": "code",
      "execution_count": null,
      "metadata": {
        "id": "Ur3RN9-7_l53"
      },
      "outputs": [],
      "source": [
        "#Top Scored Books\n",
        "from sklearn.preprocessing import MinMaxScaler"
      ]
    },
    {
      "cell_type": "code",
      "execution_count": null,
      "metadata": {
        "id": "Ok9WKnbp_mgJ"
      },
      "outputs": [],
      "source": [
        "cols = ['ratings_count','average_rating']\n",
        "scaler = MinMaxScaler()\n",
        "df_normalized = books[important_columns].copy()\n",
        "df_normalized[cols] = scaler.fit_transform(df_normalized[cols])"
      ]
    },
    {
      "cell_type": "code",
      "execution_count": null,
      "metadata": {
        "id": "vK4qwc6AApcI"
      },
      "outputs": [],
      "source": [
        "df_normalized.head()"
      ]
    },
    {
      "cell_type": "code",
      "execution_count": null,
      "metadata": {
        "id": "E7M0-7NZApfI"
      },
      "outputs": [],
      "source": [
        "df_normalized['book_score'] = 0.5 * df_normalized['ratings_count'] + 0.5 * df_normalized['average_rating']"
      ]
    },
    {
      "cell_type": "code",
      "execution_count": null,
      "metadata": {
        "id": "l7--HuaoAplN"
      },
      "outputs": [],
      "source": [
        "df_normalized_sorted_score = df_normalized.sort_values('book_score', ascending=False)\n",
        "df_normalized_sorted_score.head()"
      ]
    },
    {
      "cell_type": "code",
      "execution_count": null,
      "metadata": {
        "id": "YqfxUobF_mjY"
      },
      "outputs": [],
      "source": [
        "plot_books_by(df_normalized_sorted_score, 'book_score', 7)"
      ]
    },
    {
      "cell_type": "code",
      "execution_count": null,
      "metadata": {
        "id": "hJmvpDb-BBo8"
      },
      "outputs": [],
      "source": [
        "#language\n",
        "lang_counts = pd.DataFrame(books['language_code'].value_counts())\n",
        "lang_counts.columns = ['counts']\n",
        "lang_counts"
      ]
    },
    {
      "cell_type": "code",
      "execution_count": null,
      "metadata": {
        "id": "_lJ6tqBIBByW"
      },
      "outputs": [],
      "source": [
        "len(lang_counts)"
      ]
    },
    {
      "cell_type": "code",
      "execution_count": null,
      "metadata": {
        "colab": {
          "background_save": true
        },
        "id": "tYPTJqJGBB19"
      },
      "outputs": [],
      "source": [
        "plt.figure(figsize=(16,8))\n",
        "plt.title(\"Number of Books released in a specific Language (English included).\", weight='bold')\n",
        "plt.bar(x=lang_counts.index,height='counts', data=lang_counts);"
      ]
    },
    {
      "cell_type": "code",
      "execution_count": null,
      "metadata": {
        "colab": {
          "background_save": true
        },
        "id": "XbIAsZipBB4t"
      },
      "outputs": [],
      "source": [
        "lang_counts = lang_counts.drop([\"en-US\", \"en-GB\", \"eng\", \"en-CA\"])"
      ]
    },
    {
      "cell_type": "code",
      "execution_count": null,
      "metadata": {
        "colab": {
          "background_save": true
        },
        "id": "sSlFcGiqBB7q"
      },
      "outputs": [],
      "source": [
        "plt.figure(figsize=(16,8))\n",
        "plt.title(\"Number of Books released in a specific Language (English excluded).\", weight='bold')\n",
        "plt.bar(x=lang_counts.index,height='counts', data=lang_counts);"
      ]
    },
    {
      "cell_type": "code",
      "execution_count": null,
      "metadata": {
        "colab": {
          "background_save": true
        },
        "id": "WFFf-l6IBkPa"
      },
      "outputs": [],
      "source": [
        "#Date and year\n",
        "books['original_publication_year'] = books['original_publication_year'].astype(int)\n",
        "year_count = books.groupby('original_publication_year')['title'].count()\n",
        "plt.figure(figsize=(18,5))\n",
        "year_count.plot();"
      ]
    },
    {
      "cell_type": "code",
      "execution_count": null,
      "metadata": {
        "colab": {
          "background_save": true
        },
        "id": "0T6tuNtFBkST"
      },
      "outputs": [],
      "source": [
        "plt.figure(figsize=(18,5))\n",
        "year_count[year_count.index > 1900].plot();"
      ]
    },
    {
      "cell_type": "code",
      "execution_count": null,
      "metadata": {
        "colab": {
          "background_save": true
        },
        "id": "SYDJNgoQBkVI"
      },
      "outputs": [],
      "source": [
        "books.groupby('original_publication_year')['title'].count()[books.groupby('original_publication_year')['title'].count()>200]"
      ]
    },
    {
      "cell_type": "code",
      "execution_count": null,
      "metadata": {
        "colab": {
          "background_save": true
        },
        "id": "eNh_zRoCBzY3"
      },
      "outputs": [],
      "source": [
        "books[['title', 'original_publication_year']].sort_values('original_publication_year').head(10)"
      ]
    },
    {
      "cell_type": "code",
      "execution_count": null,
      "metadata": {
        "colab": {
          "background_save": true
        },
        "id": "w5Zvj-oMBzhl"
      },
      "outputs": [],
      "source": [
        "books[['book_id', 'title', 'original_publication_year']].sort_values('original_publication_year').tail(10)"
      ]
    },
    {
      "cell_type": "code",
      "execution_count": null,
      "metadata": {
        "colab": {
          "background_save": true
        },
        "id": "NhWy3sZ0Bzky"
      },
      "outputs": [],
      "source": [
        "#Authors\n",
        "books.authors.value_counts()"
      ]
    },
    {
      "cell_type": "code",
      "execution_count": null,
      "metadata": {
        "colab": {
          "background_save": true
        },
        "id": "ra6IEH0ZBzoK"
      },
      "outputs": [],
      "source": [
        "#Multiple authors\n",
        "a = []\n",
        "books.authors.apply(lambda x: a.append(x) if ',' in x else [])\n",
        "a[:10]"
      ]
    },
    {
      "cell_type": "code",
      "execution_count": null,
      "metadata": {
        "colab": {
          "background_save": true
        },
        "id": "p3hLeKV0Bzq7"
      },
      "outputs": [],
      "source": [
        "print('Number of books with multi-authors is {}.'.format(len(a)))"
      ]
    },
    {
      "cell_type": "code",
      "execution_count": null,
      "metadata": {
        "colab": {
          "background_save": true
        },
        "id": "I4thSDEUCuHa"
      },
      "outputs": [],
      "source": [
        "authors_list = books['authors'].apply(lambda x: [a for a in x.split(', ')] if ',' in x else x)\n",
        "authors_list.head()"
      ]
    },
    {
      "cell_type": "code",
      "execution_count": null,
      "metadata": {
        "colab": {
          "background_save": true
        },
        "id": "o29u1MaCCuK1"
      },
      "outputs": [],
      "source": [
        "authors_list.head(6).apply(lambda x: pd.Series(x)).stack().head(6)"
      ]
    },
    {
      "cell_type": "code",
      "execution_count": null,
      "metadata": {
        "colab": {
          "background_save": true
        },
        "id": "QWRjBQcMCuNV"
      },
      "outputs": [],
      "source": [
        "authors_list.head(6).apply(lambda x: pd.Series(x)).stack().head(6).reset_index(level=1, drop=True)"
      ]
    },
    {
      "cell_type": "code",
      "execution_count": null,
      "metadata": {
        "colab": {
          "background_save": true
        },
        "id": "gnOsKmSeCuQi"
      },
      "outputs": [],
      "source": [
        "#For multi-authors books, we will split their authors with a copy of the book for each one.\n",
        "splitted_authors = authors_list.apply(lambda x: pd.Series(x)).stack().reset_index(level=1, drop=True)\n",
        "splitted_authors.name = 'authors'\n",
        "splitted_authors.head()"
      ]
    },
    {
      "cell_type": "code",
      "execution_count": null,
      "metadata": {
        "colab": {
          "background_save": true
        },
        "id": "j6HW8iuKDQbk"
      },
      "outputs": [],
      "source": [
        "df_edited_authors = books[important_columns].drop('authors', axis=1).join(splitted_authors)\n",
        "df_edited_authors.head()"
      ]
    },
    {
      "cell_type": "code",
      "execution_count": null,
      "metadata": {
        "colab": {
          "background_save": true
        },
        "id": "wNpU1e7ODQi5"
      },
      "outputs": [],
      "source": [
        "books.shape, df_edited_authors.shape"
      ]
    },
    {
      "cell_type": "code",
      "execution_count": null,
      "metadata": {
        "colab": {
          "background_save": true
        },
        "id": "Z1GbDa27DQof"
      },
      "outputs": [],
      "source": [
        "df_edited_authors.authors.value_counts()"
      ]
    },
    {
      "cell_type": "markdown",
      "metadata": {
        "id": "gJlh4RIsDzkY"
      },
      "source": [
        "We can see now the difference as the previous largest number of books was 60 for Stephen King, now it's 98 for James Patterson.\n",
        "\n"
      ]
    },
    {
      "cell_type": "code",
      "execution_count": null,
      "metadata": {
        "colab": {
          "background_save": true
        },
        "id": "yT7NXcY-DQu5"
      },
      "outputs": [],
      "source": [
        "def plot_authors_by(df, title, xlabel, n=15, ylabel='Author', y_size=7):\n",
        "    plt.figure(figsize=(15,y_size))\n",
        "    ax = sns.barplot(x=df.head(n).values, y=df.head(n).index)\n",
        "    plt.title(title, weight='bold')\n",
        "    plt.xlabel(xlabel)\n",
        "    plt.ylabel(ylabel)"
      ]
    },
    {
      "cell_type": "code",
      "execution_count": null,
      "metadata": {
        "colab": {
          "background_save": true
        },
        "id": "OZO6q3R3DQ74"
      },
      "outputs": [],
      "source": [
        "authors_most_with_books = df_edited_authors.authors.value_counts()\n",
        "authors_most_with_books.head(15)"
      ]
    },
    {
      "cell_type": "code",
      "execution_count": null,
      "metadata": {
        "colab": {
          "background_save": true
        },
        "id": "IDKcUrVYDQ_P"
      },
      "outputs": [],
      "source": [
        "plot_authors_by(authors_most_with_books, 'Authors with most books', 'Number of Books', 10)\n"
      ]
    },
    {
      "cell_type": "code",
      "execution_count": null,
      "metadata": {
        "colab": {
          "background_save": true
        },
        "id": "PhWJoCo0D-G5"
      },
      "outputs": [],
      "source": [
        "#For coming analysis we need to filter authors by their number of books & total ratings count, as for an author (with just one book and few ratings of 5),\n",
        "# won't be the same for a popular author with avrage-rating of maybe 4.5.\n",
        "def at_least_books(df, n):\n",
        "    more_than_n = df_edited_authors['authors'].value_counts().values >= n\n",
        "    return df['authors'].isin(df['authors'].value_counts()[more_than_n == True].index)"
      ]
    },
    {
      "cell_type": "code",
      "execution_count": null,
      "metadata": {
        "colab": {
          "background_save": true
        },
        "id": "cB3QKTMHD-Kc"
      },
      "outputs": [],
      "source": [
        "def at_least_ratings_count(df, n):\n",
        "    return df.ratings_count >= n"
      ]
    },
    {
      "cell_type": "code",
      "execution_count": null,
      "metadata": {
        "colab": {
          "background_save": true
        },
        "id": "WnGv6J6xD-NU"
      },
      "outputs": [],
      "source": [
        "at_least_books(df_edited_authors, 5).head()"
      ]
    },
    {
      "cell_type": "code",
      "execution_count": null,
      "metadata": {
        "colab": {
          "background_save": true
        },
        "id": "HYY7yF8cD-TF"
      },
      "outputs": [],
      "source": [
        "at_least_ratings_count(df_edited_authors, 10000).head()"
      ]
    },
    {
      "cell_type": "code",
      "execution_count": null,
      "metadata": {
        "colab": {
          "background_save": true
        },
        "id": "JdPQlkIMD-Z2"
      },
      "outputs": [],
      "source": [
        "df_edited_authors['authors'].value_counts().describe()"
      ]
    },
    {
      "cell_type": "code",
      "execution_count": null,
      "metadata": {
        "colab": {
          "background_save": true
        },
        "id": "4cEGyC0QD-lD"
      },
      "outputs": [],
      "source": [
        "plt.figure(figsize=(10,5))\n",
        "plt.hist(df_edited_authors.authors.value_counts().values);\n",
        "plt.xlabel('number of books');\n",
        "plt.ylabel('count');"
      ]
    },
    {
      "cell_type": "code",
      "execution_count": null,
      "metadata": {
        "colab": {
          "background_save": true
        },
        "id": "VD2qfjDxEsSI"
      },
      "outputs": [],
      "source": [
        "df_edited_authors['ratings_count'].describe()"
      ]
    },
    {
      "cell_type": "code",
      "execution_count": null,
      "metadata": {
        "colab": {
          "background_save": true
        },
        "id": "sLVOcCpUEsZD"
      },
      "outputs": [],
      "source": [
        "plt.figure(figsize=(10,5))\n",
        "plt.hist(df_edited_authors['ratings_count']);\n",
        "plt.xlabel('number of ratings');\n",
        "plt.ylabel('count');"
      ]
    },
    {
      "cell_type": "code",
      "execution_count": null,
      "metadata": {
        "colab": {
          "background_save": true
        },
        "id": "Vai-mrMMEsdQ"
      },
      "outputs": [],
      "source": [
        "#we have chosen at least 5 books and 50k ratings for a successful author.\n",
        "c1 = at_least_books(df_edited_authors, 5)\n",
        "c2 = at_least_ratings_count(df_edited_authors, 50000)"
      ]
    },
    {
      "cell_type": "code",
      "execution_count": null,
      "metadata": {
        "colab": {
          "background_save": true
        },
        "id": "-rlua0G0ETy6"
      },
      "outputs": [],
      "source": [
        "c1.head()"
      ]
    },
    {
      "cell_type": "code",
      "execution_count": null,
      "metadata": {
        "colab": {
          "background_save": true
        },
        "id": "LYDAZJvUEslP"
      },
      "outputs": [],
      "source": [
        "best_rating_authors = df_edited_authors[c1 & c2].groupby('authors')['average_rating'].mean().sort_values(ascending=False)\n",
        "best_rating_authors.head(5)"
      ]
    },
    {
      "cell_type": "code",
      "execution_count": null,
      "metadata": {
        "colab": {
          "background_save": true
        },
        "id": "_2dz1KhNFSRW"
      },
      "outputs": [],
      "source": [
        "print('Best Rating Authors are {} of {} authors'.format(len(best_rating_authors),len(df_edited_authors.authors.unique())))"
      ]
    },
    {
      "cell_type": "code",
      "execution_count": null,
      "metadata": {
        "colab": {
          "background_save": true
        },
        "id": "-9-aU4cnFSl2"
      },
      "outputs": [],
      "source": [
        "plot_authors_by(best_rating_authors, 'Best Rating Authors', 'Rating', 10)"
      ]
    },
    {
      "cell_type": "code",
      "execution_count": null,
      "metadata": {
        "colab": {
          "background_save": true
        },
        "id": "UeeD6u62FSp1"
      },
      "outputs": [],
      "source": [
        "#Most ratings authors\n",
        "most_ratings_authors = df_edited_authors.groupby('authors')['ratings_count'].sum().sort_values(ascending=False)\n",
        "most_ratings_authors.head()"
      ]
    },
    {
      "cell_type": "code",
      "execution_count": null,
      "metadata": {
        "colab": {
          "background_save": true
        },
        "id": "LE2yv6q_FSs1"
      },
      "outputs": [],
      "source": [
        "plot_authors_by(most_ratings_authors, 'Most Ratings Authors', 'Total Ratings', 15)"
      ]
    },
    {
      "cell_type": "code",
      "execution_count": null,
      "metadata": {
        "colab": {
          "background_save": true
        },
        "id": "LnRnF8rqFS7t"
      },
      "outputs": [],
      "source": [
        "#Best Authors\n",
        "from sklearn.preprocessing import MinMaxScaler\n",
        "scaler = MinMaxScaler()"
      ]
    },
    {
      "cell_type": "code",
      "execution_count": null,
      "metadata": {
        "colab": {
          "background_save": true
        },
        "id": "SDaMcJrAFTBf"
      },
      "outputs": [],
      "source": [
        "best_rating_authors_normalized = pd.DataFrame(best_rating_authors.values, index=best_rating_authors.index, columns=['rating'])\n",
        "best_rating_authors_normalized['rating'] = scaler.fit_transform(best_rating_authors_normalized)\n",
        "best_rating_authors_normalized.head()"
      ]
    },
    {
      "cell_type": "code",
      "execution_count": null,
      "metadata": {
        "colab": {
          "background_save": true
        },
        "id": "lYlsEKu7F26q"
      },
      "outputs": [],
      "source": [
        "authors_rating_score = df_edited_authors['authors'].apply(lambda x: best_rating_authors_normalized.loc[x].rating if x in best_rating_authors_normalized.index else 0.0)\n",
        "authors_rating_score.head()"
      ]
    },
    {
      "cell_type": "code",
      "execution_count": null,
      "metadata": {
        "colab": {
          "background_save": true
        },
        "id": "GiNGc2lMF3AI"
      },
      "outputs": [],
      "source": [
        "most_ratings_authors_normalized = pd.DataFrame(most_ratings_authors.values, index=most_ratings_authors.index, columns=['total_rating'])\n",
        "most_ratings_authors_normalized['total_rating'] = scaler.fit_transform(most_ratings_authors_normalized)\n",
        "most_ratings_authors_normalized.head()"
      ]
    },
    {
      "cell_type": "code",
      "execution_count": null,
      "metadata": {
        "colab": {
          "background_save": true
        },
        "id": "FyiyMULMF3DA",
        "outputId": "f0dafef4-ada1-4d93-b160-169312c66b67"
      },
      "outputs": [
        {
          "data": {
            "text/plain": [
              "0    0.506137\n",
              "1    1.000000\n",
              "1    0.890216\n",
              "2    0.500477\n",
              "3    0.195261\n",
              "Name: authors, dtype: float64"
            ]
          },
          "execution_count": null,
          "metadata": {},
          "output_type": "execute_result"
        }
      ],
      "source": [
        "authors_ratings_count_score = df_edited_authors['authors'].apply(lambda x: most_ratings_authors_normalized.loc[x].total_rating)\n",
        "authors_ratings_count_score.head()"
      ]
    },
    {
      "cell_type": "code",
      "execution_count": null,
      "metadata": {
        "colab": {
          "background_save": true
        },
        "id": "FLSS1svRF3GP",
        "outputId": "6786af2b-c8f1-4c3b-82c1-5c8ca44e85a3"
      },
      "outputs": [
        {
          "data": {
            "text/plain": [
              "0    0.612224\n",
              "1    0.848151\n",
              "1    0.898327\n",
              "2    0.452116\n",
              "3    0.097631\n",
              "Name: author_score, dtype: float64"
            ]
          },
          "execution_count": null,
          "metadata": {},
          "output_type": "execute_result"
        }
      ],
      "source": [
        "df_edited_authors['author_score'] = 0.5 * authors_rating_score + 0.5 * authors_ratings_count_score\n",
        "df_edited_authors['author_score'].head()"
      ]
    },
    {
      "cell_type": "code",
      "execution_count": null,
      "metadata": {
        "colab": {
          "background_save": true
        },
        "id": "nchlvpcbF3JT",
        "outputId": "0bd97276-4d45-40c9-fd69-11a16dbfc818"
      },
      "outputs": [
        {
          "data": {
            "text/plain": [
              "authors\n",
              "Mary GrandPré         0.898327\n",
              "J.K. Rowling          0.848151\n",
              "Suzanne Collins       0.612224\n",
              "J.R.R. Tolkien        0.553017\n",
              "Cassandra Clare       0.535041\n",
              "Rick Riordan          0.532272\n",
              "Stephen King          0.525440\n",
              "George R.R. Martin    0.517450\n",
              "Bill Watterson        0.512536\n",
              "Sarah J. Maas         0.487520\n",
              "Name: author_score, dtype: float64"
            ]
          },
          "execution_count": null,
          "metadata": {},
          "output_type": "execute_result"
        }
      ],
      "source": [
        "best_authors = df_edited_authors.groupby('authors')['author_score'].mean().sort_values(ascending=False)\n",
        "best_authors.head(10)"
      ]
    },
    {
      "cell_type": "code",
      "execution_count": null,
      "metadata": {
        "colab": {
          "background_save": true
        },
        "id": "_UfxwgBTFTJE",
        "outputId": "2a2d5e0d-1545-4912-aeee-00795346ae08"
      },
      "outputs": [
        {
          "data": {
            "image/png": "[encoded data removed]",
            "text/plain": [
              "<Figure size 1080x504 with 1 Axes>"
            ]
          },
          "metadata": {},
          "output_type": "display_data"
        }
      ],
      "source": [
        "plot_authors_by(best_authors, 'Best Authors', 'Score', 15)"
      ]
    },
    {
      "cell_type": "code",
      "execution_count": null,
      "metadata": {
        "colab": {
          "background_save": true
        },
        "id": "G62VfJtRGfok",
        "outputId": "f5c3386e-7004-463c-8e00-9052c7c5ede2"
      },
      "outputs": [
        {
          "data": {
            "text/html": [
              "<div>\n",
              "<style scoped>\n",
              "    .dataframe tbody tr th:only-of-type {\n",
              "        vertical-align: middle;\n",
              "    }\n",
              "\n",
              "    .dataframe tbody tr th {\n",
              "        vertical-align: top;\n",
              "    }\n",
              "\n",
              "    .dataframe thead th {\n",
              "        text-align: right;\n",
              "    }\n",
              "</style>\n",
              "<table border=\"1\" class=\"dataframe\">\n",
              "  <thead>\n",
              "    <tr style=\"text-align: right;\">\n",
              "      <th></th>\n",
              "      <th>book_id</th>\n",
              "      <th>user_id</th>\n",
              "      <th>rating</th>\n",
              "    </tr>\n",
              "  </thead>\n",
              "  <tbody>\n",
              "    <tr>\n",
              "      <th>0</th>\n",
              "      <td>1</td>\n",
              "      <td>314</td>\n",
              "      <td>5</td>\n",
              "    </tr>\n",
              "    <tr>\n",
              "      <th>1</th>\n",
              "      <td>1</td>\n",
              "      <td>439</td>\n",
              "      <td>3</td>\n",
              "    </tr>\n",
              "    <tr>\n",
              "      <th>2</th>\n",
              "      <td>1</td>\n",
              "      <td>588</td>\n",
              "      <td>5</td>\n",
              "    </tr>\n",
              "    <tr>\n",
              "      <th>3</th>\n",
              "      <td>1</td>\n",
              "      <td>1169</td>\n",
              "      <td>4</td>\n",
              "    </tr>\n",
              "    <tr>\n",
              "      <th>4</th>\n",
              "      <td>1</td>\n",
              "      <td>1185</td>\n",
              "      <td>4</td>\n",
              "    </tr>\n",
              "  </tbody>\n",
              "</table>\n",
              "</div>"
            ],
            "text/plain": [
              "   book_id  user_id  rating\n",
              "0        1      314       5\n",
              "1        1      439       3\n",
              "2        1      588       5\n",
              "3        1     1169       4\n",
              "4        1     1185       4"
            ]
          },
          "execution_count": null,
          "metadata": {},
          "output_type": "execute_result"
        }
      ],
      "source": [
        "#Ratings\n",
        "ratings.head()"
      ]
    },
    {
      "cell_type": "code",
      "execution_count": null,
      "metadata": {
        "colab": {
          "background_save": true
        },
        "id": "gQ5ChiEqGf2L",
        "outputId": "2973d537-1fdf-41a9-9e29-ff1016661409"
      },
      "outputs": [
        {
          "name": "stdout",
          "output_type": "stream",
          "text": [
            "There are 981756 ratings.\n"
          ]
        }
      ],
      "source": [
        "print('There are {} ratings.'.format(ratings.shape[0]))"
      ]
    },
    {
      "cell_type": "code",
      "execution_count": null,
      "metadata": {
        "colab": {
          "background_save": true
        },
        "id": "sltps_1iGgAn",
        "outputId": "0cd76c49-21e0-4219-e8b9-0ef79353d0f6"
      },
      "outputs": [
        {
          "name": "stdout",
          "output_type": "stream",
          "text": [
            "Number of users is 53424\n"
          ]
        }
      ],
      "source": [
        "print('Number of users is {}'.format(len(ratings.user_id.unique())))"
      ]
    },
    {
      "cell_type": "code",
      "execution_count": null,
      "metadata": {
        "colab": {
          "background_save": true
        },
        "id": "inrsWwvxGgSU",
        "outputId": "a334d189-af98-4043-f2e4-776e533958e3"
      },
      "outputs": [
        {
          "data": {
            "text/html": [
              "<div>\n",
              "<style scoped>\n",
              "    .dataframe tbody tr th:only-of-type {\n",
              "        vertical-align: middle;\n",
              "    }\n",
              "\n",
              "    .dataframe tbody tr th {\n",
              "        vertical-align: top;\n",
              "    }\n",
              "\n",
              "    .dataframe thead th {\n",
              "        text-align: right;\n",
              "    }\n",
              "</style>\n",
              "<table border=\"1\" class=\"dataframe\">\n",
              "  <thead>\n",
              "    <tr style=\"text-align: right;\">\n",
              "      <th></th>\n",
              "      <th>book_id</th>\n",
              "      <th>user_id</th>\n",
              "      <th>rating</th>\n",
              "    </tr>\n",
              "  </thead>\n",
              "  <tbody>\n",
              "    <tr>\n",
              "      <th>1171</th>\n",
              "      <td>12</td>\n",
              "      <td>40251</td>\n",
              "      <td>4</td>\n",
              "    </tr>\n",
              "    <tr>\n",
              "      <th>2474</th>\n",
              "      <td>25</td>\n",
              "      <td>32635</td>\n",
              "      <td>5</td>\n",
              "    </tr>\n",
              "    <tr>\n",
              "      <th>2959</th>\n",
              "      <td>30</td>\n",
              "      <td>31760</td>\n",
              "      <td>4</td>\n",
              "    </tr>\n",
              "    <tr>\n",
              "      <th>3020</th>\n",
              "      <td>31</td>\n",
              "      <td>8669</td>\n",
              "      <td>5</td>\n",
              "    </tr>\n",
              "    <tr>\n",
              "      <th>3334</th>\n",
              "      <td>34</td>\n",
              "      <td>26097</td>\n",
              "      <td>1</td>\n",
              "    </tr>\n",
              "    <tr>\n",
              "      <th>...</th>\n",
              "      <td>...</td>\n",
              "      <td>...</td>\n",
              "      <td>...</td>\n",
              "    </tr>\n",
              "    <tr>\n",
              "      <th>979373</th>\n",
              "      <td>9975</td>\n",
              "      <td>3133</td>\n",
              "      <td>3</td>\n",
              "    </tr>\n",
              "    <tr>\n",
              "      <th>980520</th>\n",
              "      <td>9988</td>\n",
              "      <td>907</td>\n",
              "      <td>4</td>\n",
              "    </tr>\n",
              "    <tr>\n",
              "      <th>981044</th>\n",
              "      <td>9993</td>\n",
              "      <td>33994</td>\n",
              "      <td>4</td>\n",
              "    </tr>\n",
              "    <tr>\n",
              "      <th>981257</th>\n",
              "      <td>9995</td>\n",
              "      <td>28898</td>\n",
              "      <td>2</td>\n",
              "    </tr>\n",
              "    <tr>\n",
              "      <th>981369</th>\n",
              "      <td>9996</td>\n",
              "      <td>48576</td>\n",
              "      <td>5</td>\n",
              "    </tr>\n",
              "  </tbody>\n",
              "</table>\n",
              "<p>1644 rows × 3 columns</p>\n",
              "</div>"
            ],
            "text/plain": [
              "        book_id  user_id  rating\n",
              "1171         12    40251       4\n",
              "2474         25    32635       5\n",
              "2959         30    31760       4\n",
              "3020         31     8669       5\n",
              "3334         34    26097       1\n",
              "...         ...      ...     ...\n",
              "979373     9975     3133       3\n",
              "980520     9988      907       4\n",
              "981044     9993    33994       4\n",
              "981257     9995    28898       2\n",
              "981369     9996    48576       5\n",
              "\n",
              "[1644 rows x 3 columns]"
            ]
          },
          "execution_count": null,
          "metadata": {},
          "output_type": "execute_result"
        }
      ],
      "source": [
        "#Remove duplicate ratings\n",
        "ratings[ratings.duplicated()==True]\n"
      ]
    },
    {
      "cell_type": "code",
      "execution_count": null,
      "metadata": {
        "colab": {
          "background_save": true
        },
        "id": "wuHg6a5jGgfF",
        "outputId": "6093f785-40f3-48dc-c4fc-ffff013fdc45"
      },
      "outputs": [
        {
          "data": {
            "text/html": [
              "<div>\n",
              "<style scoped>\n",
              "    .dataframe tbody tr th:only-of-type {\n",
              "        vertical-align: middle;\n",
              "    }\n",
              "\n",
              "    .dataframe tbody tr th {\n",
              "        vertical-align: top;\n",
              "    }\n",
              "\n",
              "    .dataframe thead th {\n",
              "        text-align: right;\n",
              "    }\n",
              "</style>\n",
              "<table border=\"1\" class=\"dataframe\">\n",
              "  <thead>\n",
              "    <tr style=\"text-align: right;\">\n",
              "      <th></th>\n",
              "      <th>book_id</th>\n",
              "      <th>user_id</th>\n",
              "      <th>rating</th>\n",
              "    </tr>\n",
              "  </thead>\n",
              "  <tbody>\n",
              "    <tr>\n",
              "      <th>1170</th>\n",
              "      <td>12</td>\n",
              "      <td>40251</td>\n",
              "      <td>4</td>\n",
              "    </tr>\n",
              "    <tr>\n",
              "      <th>1171</th>\n",
              "      <td>12</td>\n",
              "      <td>40251</td>\n",
              "      <td>4</td>\n",
              "    </tr>\n",
              "    <tr>\n",
              "      <th>2473</th>\n",
              "      <td>25</td>\n",
              "      <td>32635</td>\n",
              "      <td>5</td>\n",
              "    </tr>\n",
              "    <tr>\n",
              "      <th>2474</th>\n",
              "      <td>25</td>\n",
              "      <td>32635</td>\n",
              "      <td>5</td>\n",
              "    </tr>\n",
              "    <tr>\n",
              "      <th>2958</th>\n",
              "      <td>30</td>\n",
              "      <td>31760</td>\n",
              "      <td>4</td>\n",
              "    </tr>\n",
              "    <tr>\n",
              "      <th>2959</th>\n",
              "      <td>30</td>\n",
              "      <td>31760</td>\n",
              "      <td>4</td>\n",
              "    </tr>\n",
              "  </tbody>\n",
              "</table>\n",
              "</div>"
            ],
            "text/plain": [
              "      book_id  user_id  rating\n",
              "1170       12    40251       4\n",
              "1171       12    40251       4\n",
              "2473       25    32635       5\n",
              "2474       25    32635       5\n",
              "2958       30    31760       4\n",
              "2959       30    31760       4"
            ]
          },
          "execution_count": null,
          "metadata": {},
          "output_type": "execute_result"
        }
      ],
      "source": [
        "ratings[ratings.duplicated(keep=False)==True].head(6)"
      ]
    },
    {
      "cell_type": "code",
      "execution_count": null,
      "metadata": {
        "colab": {
          "background_save": true
        },
        "id": "hok4fvmLGgqX",
        "outputId": "50f6df58-7b34-4b4e-a9c0-03b1b26015d1"
      },
      "outputs": [
        {
          "data": {
            "text/plain": [
              "(980112, 3)"
            ]
          },
          "execution_count": null,
          "metadata": {},
          "output_type": "execute_result"
        }
      ],
      "source": [
        "ratings_rmv_duplicates = ratings.drop_duplicates()\n",
        "ratings_rmv_duplicates.shape"
      ]
    },
    {
      "cell_type": "code",
      "execution_count": null,
      "metadata": {
        "colab": {
          "background_save": true
        },
        "id": "HmhZRLUPMV9-",
        "outputId": "892a3d6d-d64c-4c2f-d0f9-21efff56441c"
      },
      "outputs": [
        {
          "data": {
            "text/plain": [
              "(196022, 3)"
            ]
          },
          "execution_count": null,
          "metadata": {},
          "output_type": "execute_result"
        }
      ],
      "source": [
        "ratings_sample = ratings_rmv_duplicates.sample(frac=0.2)\n",
        "ratings_sample.shape"
      ]
    },
    {
      "cell_type": "code",
      "execution_count": null,
      "metadata": {
        "colab": {
          "background_save": true
        },
        "id": "NEzeYRqDMF5d",
        "outputId": "6a90de67-2615-49a1-9e3e-3b01b61757ba"
      },
      "outputs": [
        {
          "data": {
            "image/png": "[encoded data removed]",
            "text/plain": [
              "<Figure size 864x576 with 1 Axes>"
            ]
          },
          "metadata": {},
          "output_type": "display_data"
        }
      ],
      "source": [
        "#Distribution of ratings\n",
        "plt.figure(figsize=(12,8))\n",
        "sns.countplot(x='rating', data=ratings_sample);"
      ]
    },
    {
      "cell_type": "code",
      "execution_count": null,
      "metadata": {
        "colab": {
          "background_save": true
        },
        "id": "9VAgJAwnMF82",
        "outputId": "b5f28754-185a-4825-d764-54dd482fdce3"
      },
      "outputs": [
        {
          "data": {
            "text/plain": [
              "user_id\n",
              "2        1\n",
              "3        1\n",
              "4        2\n",
              "5        2\n",
              "6        1\n",
              "        ..\n",
              "53417    1\n",
              "53420    2\n",
              "53421    1\n",
              "53422    4\n",
              "53424    5\n",
              "Name: user_id, Length: 40568, dtype: int64"
            ]
          },
          "execution_count": null,
          "metadata": {},
          "output_type": "execute_result"
        }
      ],
      "source": [
        "ratings_per_user = ratings_sample.groupby('user_id')['user_id'].count()\n",
        "ratings_per_user"
      ]
    },
    {
      "cell_type": "code",
      "execution_count": null,
      "metadata": {
        "colab": {
          "background_save": true
        },
        "id": "k7uNyyj4MF_g",
        "outputId": "01f6bfb2-5e3a-484c-89a9-54c529e33386"
      },
      "outputs": [
        {
          "data": {
            "image/png": "[encoded data removed]",
            "text/plain": [
              "<Figure size 864x576 with 1 Axes>"
            ]
          },
          "metadata": {},
          "output_type": "display_data"
        }
      ],
      "source": [
        "plt.figure(figsize=(12,8))\n",
        "plt.hist(ratings_per_user ,bins='auto');\n",
        "plt.grid(axis='y', alpha=0.75)\n",
        "plt.xlabel('number of ratings per user')\n",
        "plt.ylabel('count');"
      ]
    },
    {
      "cell_type": "code",
      "execution_count": null,
      "metadata": {
        "colab": {
          "background_save": true
        },
        "id": "mkSq9Q4-MGC5",
        "outputId": "f835aca1-2f11-4a13-9073-d2d8da16cf34"
      },
      "outputs": [
        {
          "data": {
            "text/plain": [
              "user_id\n",
              "2        4.00\n",
              "3        1.00\n",
              "4        5.00\n",
              "5        4.50\n",
              "6        5.00\n",
              "         ... \n",
              "53417    4.00\n",
              "53420    3.50\n",
              "53421    5.00\n",
              "53422    3.75\n",
              "53424    4.20\n",
              "Name: rating, Length: 40568, dtype: float64"
            ]
          },
          "execution_count": null,
          "metadata": {},
          "output_type": "execute_result"
        }
      ],
      "source": [
        "mean_rating_per_user = ratings_sample.groupby('user_id')['rating'].mean()\n",
        "mean_rating_per_user"
      ]
    },
    {
      "cell_type": "code",
      "execution_count": null,
      "metadata": {
        "colab": {
          "background_save": true
        },
        "id": "bv7VCBc-MGFU",
        "outputId": "a79fc18c-b403-4f15-c7e2-862124c87a63"
      },
      "outputs": [
        {
          "data": {
            "image/png": "[encoded data removed]",
            "text/plain": [
              "<Figure size 864x576 with 1 Axes>"
            ]
          },
          "metadata": {},
          "output_type": "display_data"
        }
      ],
      "source": [
        "plt.figure(figsize=(12,8))\n",
        "plt.hist(mean_rating_per_user, bins='auto');\n",
        "plt.grid(axis='y', alpha=0.75)\n",
        "plt.xlabel('mean user rating')\n",
        "plt.ylabel('count');"
      ]
    },
    {
      "cell_type": "code",
      "execution_count": null,
      "metadata": {
        "colab": {
          "background_save": true
        },
        "id": "IU96mV9HMrOs",
        "outputId": "47e92349-fb77-47d7-9221-2abcd60089c9"
      },
      "outputs": [
        {
          "data": {
            "text/plain": [
              "book_id\n",
              "1        24\n",
              "2        25\n",
              "3        18\n",
              "4        21\n",
              "5        20\n",
              "         ..\n",
              "9996     26\n",
              "9997     19\n",
              "9998     19\n",
              "9999     21\n",
              "10000    22\n",
              "Name: book_id, Length: 10000, dtype: int64"
            ]
          },
          "execution_count": null,
          "metadata": {},
          "output_type": "execute_result"
        }
      ],
      "source": [
        "ratings_per_book = ratings_sample.groupby('book_id')['book_id'].count()\n",
        "ratings_per_book"
      ]
    },
    {
      "cell_type": "code",
      "execution_count": null,
      "metadata": {
        "colab": {
          "background_save": true
        },
        "id": "VPrT7oq0MrSD",
        "outputId": "42165ab0-ff65-4432-8d7c-d508c80a7b3a"
      },
      "outputs": [
        {
          "data": {
            "image/png": "[encoded data removed]",
            "text/plain": [
              "<Figure size 864x576 with 1 Axes>"
            ]
          },
          "metadata": {},
          "output_type": "display_data"
        }
      ],
      "source": [
        "plt.figure(figsize=(12,8))\n",
        "plt.hist(ratings_per_book ,bins='auto');\n",
        "plt.grid(axis='y', alpha=0.75)\n",
        "plt.xlabel('number of ratings per book')\n",
        "plt.ylabel('count');"
      ]
    },
    {
      "cell_type": "code",
      "execution_count": null,
      "metadata": {
        "colab": {
          "background_save": true
        },
        "id": "KU_F8597MrVt",
        "outputId": "7994162d-f16d-4952-e7c1-44e1bebe1d43"
      },
      "outputs": [
        {
          "data": {
            "text/plain": [
              "book_id\n",
              "1        3.791667\n",
              "2        4.160000\n",
              "3        3.000000\n",
              "4        4.380952\n",
              "5        3.800000\n",
              "           ...   \n",
              "9996     4.038462\n",
              "9997     4.210526\n",
              "9998     3.789474\n",
              "9999     3.619048\n",
              "10000    4.045455\n",
              "Name: rating, Length: 10000, dtype: float64"
            ]
          },
          "execution_count": null,
          "metadata": {},
          "output_type": "execute_result"
        }
      ],
      "source": [
        "mean_rating_per_book = ratings_sample.groupby('book_id')['rating'].mean()\n",
        "mean_rating_per_book"
      ]
    },
    {
      "cell_type": "code",
      "execution_count": null,
      "metadata": {
        "colab": {
          "background_save": true
        },
        "id": "Y9zCCubiM7MF",
        "outputId": "f3feac20-4651-45e5-e33d-3ccb4cc9ba83"
      },
      "outputs": [
        {
          "data": {
            "image/png": "[encoded data removed]",
            "text/plain": [
              "<Figure size 864x576 with 1 Axes>"
            ]
          },
          "metadata": {},
          "output_type": "display_data"
        }
      ],
      "source": [
        "plt.figure(figsize=(12,8))\n",
        "plt.hist(mean_rating_per_book, bins='auto');\n",
        "plt.grid(axis='y', alpha=0.75)\n",
        "plt.xlabel('mean book rating')\n",
        "plt.ylabel('count');"
      ]
    },
    {
      "cell_type": "code",
      "execution_count": null,
      "metadata": {
        "colab": {
          "background_save": true
        },
        "id": "Z4aM-XGGM7O9",
        "outputId": "79638710-1ce5-4513-94e8-b1b6db69bb63"
      },
      "outputs": [
        {
          "data": {
            "text/html": [
              "<div>\n",
              "<style scoped>\n",
              "    .dataframe tbody tr th:only-of-type {\n",
              "        vertical-align: middle;\n",
              "    }\n",
              "\n",
              "    .dataframe tbody tr th {\n",
              "        vertical-align: top;\n",
              "    }\n",
              "\n",
              "    .dataframe thead th {\n",
              "        text-align: right;\n",
              "    }\n",
              "</style>\n",
              "<table border=\"1\" class=\"dataframe\">\n",
              "  <thead>\n",
              "    <tr style=\"text-align: right;\">\n",
              "      <th></th>\n",
              "      <th>tag_id</th>\n",
              "      <th>tag_name</th>\n",
              "    </tr>\n",
              "  </thead>\n",
              "  <tbody>\n",
              "    <tr>\n",
              "      <th>0</th>\n",
              "      <td>0</td>\n",
              "      <td>-</td>\n",
              "    </tr>\n",
              "    <tr>\n",
              "      <th>1</th>\n",
              "      <td>1</td>\n",
              "      <td>--1-</td>\n",
              "    </tr>\n",
              "    <tr>\n",
              "      <th>2</th>\n",
              "      <td>2</td>\n",
              "      <td>--10-</td>\n",
              "    </tr>\n",
              "    <tr>\n",
              "      <th>3</th>\n",
              "      <td>3</td>\n",
              "      <td>--12-</td>\n",
              "    </tr>\n",
              "    <tr>\n",
              "      <th>4</th>\n",
              "      <td>4</td>\n",
              "      <td>--122-</td>\n",
              "    </tr>\n",
              "  </tbody>\n",
              "</table>\n",
              "</div>"
            ],
            "text/plain": [
              "   tag_id tag_name\n",
              "0       0        -\n",
              "1       1     --1-\n",
              "2       2    --10-\n",
              "3       3    --12-\n",
              "4       4   --122-"
            ]
          },
          "execution_count": null,
          "metadata": {},
          "output_type": "execute_result"
        }
      ],
      "source": [
        "tags.head()"
      ]
    },
    {
      "cell_type": "code",
      "execution_count": null,
      "metadata": {
        "colab": {
          "background_save": true
        },
        "id": "AZB9TgQ0M7SG",
        "outputId": "9d9ef8cb-a881-488a-a531-5b8780b71cc2"
      },
      "outputs": [
        {
          "name": "stdout",
          "output_type": "stream",
          "text": [
            "(999912, 3)\n"
          ]
        },
        {
          "data": {
            "text/html": [
              "<div>\n",
              "<style scoped>\n",
              "    .dataframe tbody tr th:only-of-type {\n",
              "        vertical-align: middle;\n",
              "    }\n",
              "\n",
              "    .dataframe tbody tr th {\n",
              "        vertical-align: top;\n",
              "    }\n",
              "\n",
              "    .dataframe thead th {\n",
              "        text-align: right;\n",
              "    }\n",
              "</style>\n",
              "<table border=\"1\" class=\"dataframe\">\n",
              "  <thead>\n",
              "    <tr style=\"text-align: right;\">\n",
              "      <th></th>\n",
              "      <th>goodreads_book_id</th>\n",
              "      <th>tag_id</th>\n",
              "      <th>count</th>\n",
              "    </tr>\n",
              "  </thead>\n",
              "  <tbody>\n",
              "    <tr>\n",
              "      <th>0</th>\n",
              "      <td>1</td>\n",
              "      <td>30574</td>\n",
              "      <td>167697</td>\n",
              "    </tr>\n",
              "    <tr>\n",
              "      <th>1</th>\n",
              "      <td>1</td>\n",
              "      <td>11305</td>\n",
              "      <td>37174</td>\n",
              "    </tr>\n",
              "    <tr>\n",
              "      <th>2</th>\n",
              "      <td>1</td>\n",
              "      <td>11557</td>\n",
              "      <td>34173</td>\n",
              "    </tr>\n",
              "    <tr>\n",
              "      <th>3</th>\n",
              "      <td>1</td>\n",
              "      <td>8717</td>\n",
              "      <td>12986</td>\n",
              "    </tr>\n",
              "    <tr>\n",
              "      <th>4</th>\n",
              "      <td>1</td>\n",
              "      <td>33114</td>\n",
              "      <td>12716</td>\n",
              "    </tr>\n",
              "  </tbody>\n",
              "</table>\n",
              "</div>"
            ],
            "text/plain": [
              "   goodreads_book_id  tag_id   count\n",
              "0                  1   30574  167697\n",
              "1                  1   11305   37174\n",
              "2                  1   11557   34173\n",
              "3                  1    8717   12986\n",
              "4                  1   33114   12716"
            ]
          },
          "execution_count": null,
          "metadata": {},
          "output_type": "execute_result"
        }
      ],
      "source": [
        "print(book_tags.shape)\n",
        "book_tags.head()"
      ]
    },
    {
      "cell_type": "code",
      "execution_count": null,
      "metadata": {
        "colab": {
          "background_save": true
        },
        "id": "CloSlM8iM7Uv"
      },
      "outputs": [],
      "source": [
        "genres = [\"Art\", \"Biography\", \"Business\", \"Chick Lit\", \"Children's\", \"Christian\", \"Classics\",\n",
        "          \"Comics\", \"Contemporary\", \"Cookbooks\", \"Crime\", \"Ebooks\", \"Fantasy\", \"Fiction\",\n",
        "          \"Gay and Lesbian\", \"Graphic Novels\", \"Historical Fiction\", \"History\", \"Horror\",\n",
        "          \"Humor and Comedy\", \"Manga\", \"Memoir\", \"Music\", \"Mystery\", \"Nonfiction\", \"Paranormal\",\n",
        "          \"Philosophy\", \"Poetry\", \"Psychology\", \"Religion\", \"Romance\", \"Science\", \"Science Fiction\",\n",
        "          \"Self Help\", \"Suspense\", \"Spirituality\", \"Sports\", \"Thriller\", \"Travel\", \"Young Adult\"]"
      ]
    },
    {
      "cell_type": "code",
      "execution_count": null,
      "metadata": {
        "colab": {
          "background_save": true
        },
        "id": "zHmarhYuM7YJ",
        "outputId": "c80239ac-4a99-4261-92af-670c51cb7955"
      },
      "outputs": [
        {
          "data": {
            "text/plain": [
              "['art', 'biography', 'business', 'chick lit']"
            ]
          },
          "execution_count": null,
          "metadata": {},
          "output_type": "execute_result"
        }
      ],
      "source": [
        "genres = list(map(str.lower, genres))\n",
        "genres[:4]"
      ]
    },
    {
      "cell_type": "code",
      "execution_count": null,
      "metadata": {
        "colab": {
          "background_save": true
        },
        "id": "l-qQnZhlM7bX"
      },
      "outputs": [],
      "source": [
        "available_genres = tags.loc[tags.tag_name.str.lower().isin(genres)]"
      ]
    },
    {
      "cell_type": "code",
      "execution_count": null,
      "metadata": {
        "colab": {
          "background_save": true
        },
        "id": "Ez_5hc9CM7et",
        "outputId": "e9bd040e-0b2f-49f8-99ab-a57f44f68f60"
      },
      "outputs": [
        {
          "name": "stdout",
          "output_type": "stream",
          "text": [
            "Number of available tags is 31 out of the 40 tags in genres list\n"
          ]
        }
      ],
      "source": [
        "print('Number of available tags is {} out of the {} tags in genres list'.format(available_genres.shape[0], len(genres)))"
      ]
    },
    {
      "cell_type": "code",
      "execution_count": null,
      "metadata": {
        "colab": {
          "background_save": true
        },
        "id": "SiTkDMriNiRl",
        "outputId": "d05952ae-5bcb-409b-bc1b-bd34a1dfde49"
      },
      "outputs": [
        {
          "data": {
            "text/plain": [
              "(60573, 3)"
            ]
          },
          "execution_count": null,
          "metadata": {},
          "output_type": "execute_result"
        }
      ],
      "source": [
        "available_books_with_genres = book_tags[book_tags.tag_id.isin(available_genres.tag_id)]\n",
        "available_books_with_genres.shape"
      ]
    },
    {
      "cell_type": "code",
      "execution_count": null,
      "metadata": {
        "colab": {
          "background_save": true
        },
        "id": "NiOYSf5kNiZr",
        "outputId": "3139c608-642f-4017-b88e-954460b15026"
      },
      "outputs": [
        {
          "data": {
            "text/html": [
              "<div>\n",
              "<style scoped>\n",
              "    .dataframe tbody tr th:only-of-type {\n",
              "        vertical-align: middle;\n",
              "    }\n",
              "\n",
              "    .dataframe tbody tr th {\n",
              "        vertical-align: top;\n",
              "    }\n",
              "\n",
              "    .dataframe thead th {\n",
              "        text-align: right;\n",
              "    }\n",
              "</style>\n",
              "<table border=\"1\" class=\"dataframe\">\n",
              "  <thead>\n",
              "    <tr style=\"text-align: right;\">\n",
              "      <th></th>\n",
              "      <th>count</th>\n",
              "    </tr>\n",
              "    <tr>\n",
              "      <th>tag_id</th>\n",
              "      <th></th>\n",
              "    </tr>\n",
              "  </thead>\n",
              "  <tbody>\n",
              "    <tr>\n",
              "      <th>2938</th>\n",
              "      <td>30262</td>\n",
              "    </tr>\n",
              "    <tr>\n",
              "      <th>4605</th>\n",
              "      <td>172444</td>\n",
              "    </tr>\n",
              "    <tr>\n",
              "      <th>5951</th>\n",
              "      <td>73249</td>\n",
              "    </tr>\n",
              "    <tr>\n",
              "      <th>7077</th>\n",
              "      <td>53864</td>\n",
              "    </tr>\n",
              "    <tr>\n",
              "      <th>7457</th>\n",
              "      <td>1756920</td>\n",
              "    </tr>\n",
              "  </tbody>\n",
              "</table>\n",
              "</div>"
            ],
            "text/plain": [
              "          count\n",
              "tag_id         \n",
              "2938      30262\n",
              "4605     172444\n",
              "5951      73249\n",
              "7077      53864\n",
              "7457    1756920"
            ]
          },
          "execution_count": null,
          "metadata": {},
          "output_type": "execute_result"
        }
      ],
      "source": [
        "tag_counts = pd.DataFrame(available_books_with_genres.groupby('tag_id')['count'].sum())\n",
        "tag_counts.head()"
      ]
    },
    {
      "cell_type": "code",
      "execution_count": null,
      "metadata": {
        "colab": {
          "background_save": true
        },
        "id": "6WXJJp-cNidX",
        "outputId": "0d421bae-2ddd-4055-8d1f-1e258dcf445a"
      },
      "outputs": [
        {
          "data": {
            "text/html": [
              "<div>\n",
              "<style scoped>\n",
              "    .dataframe tbody tr th:only-of-type {\n",
              "        vertical-align: middle;\n",
              "    }\n",
              "\n",
              "    .dataframe tbody tr th {\n",
              "        vertical-align: top;\n",
              "    }\n",
              "\n",
              "    .dataframe thead th {\n",
              "        text-align: right;\n",
              "    }\n",
              "</style>\n",
              "<table border=\"1\" class=\"dataframe\">\n",
              "  <thead>\n",
              "    <tr style=\"text-align: right;\">\n",
              "      <th></th>\n",
              "      <th>count</th>\n",
              "    </tr>\n",
              "    <tr>\n",
              "      <th>tag_name</th>\n",
              "      <th></th>\n",
              "    </tr>\n",
              "  </thead>\n",
              "  <tbody>\n",
              "    <tr>\n",
              "      <th>art</th>\n",
              "      <td>30262</td>\n",
              "    </tr>\n",
              "    <tr>\n",
              "      <th>biography</th>\n",
              "      <td>172444</td>\n",
              "    </tr>\n",
              "    <tr>\n",
              "      <th>business</th>\n",
              "      <td>73249</td>\n",
              "    </tr>\n",
              "    <tr>\n",
              "      <th>christian</th>\n",
              "      <td>53864</td>\n",
              "    </tr>\n",
              "    <tr>\n",
              "      <th>classics</th>\n",
              "      <td>1756920</td>\n",
              "    </tr>\n",
              "  </tbody>\n",
              "</table>\n",
              "</div>"
            ],
            "text/plain": [
              "             count\n",
              "tag_name          \n",
              "art          30262\n",
              "biography   172444\n",
              "business     73249\n",
              "christian    53864\n",
              "classics   1756920"
            ]
          },
          "execution_count": null,
          "metadata": {},
          "output_type": "execute_result"
        }
      ],
      "source": [
        "tag_counts.set_index(available_genres.tag_name, inplace=True)\n",
        "tag_counts.head()"
      ]
    },
    {
      "cell_type": "code",
      "execution_count": null,
      "metadata": {
        "colab": {
          "background_save": true
        },
        "id": "izZnso-SNig6",
        "outputId": "9b0146f1-9969-44a6-ef13-3c2ebca5a856"
      },
      "outputs": [
        {
          "data": {
            "text/html": [
              "<div>\n",
              "<style scoped>\n",
              "    .dataframe tbody tr th:only-of-type {\n",
              "        vertical-align: middle;\n",
              "    }\n",
              "\n",
              "    .dataframe tbody tr th {\n",
              "        vertical-align: top;\n",
              "    }\n",
              "\n",
              "    .dataframe thead th {\n",
              "        text-align: right;\n",
              "    }\n",
              "</style>\n",
              "<table border=\"1\" class=\"dataframe\">\n",
              "  <thead>\n",
              "    <tr style=\"text-align: right;\">\n",
              "      <th></th>\n",
              "      <th>count</th>\n",
              "    </tr>\n",
              "    <tr>\n",
              "      <th>tag_name</th>\n",
              "      <th></th>\n",
              "    </tr>\n",
              "  </thead>\n",
              "  <tbody>\n",
              "    <tr>\n",
              "      <th>fiction</th>\n",
              "      <td>3688819</td>\n",
              "    </tr>\n",
              "    <tr>\n",
              "      <th>fantasy</th>\n",
              "      <td>3548157</td>\n",
              "    </tr>\n",
              "    <tr>\n",
              "      <th>classics</th>\n",
              "      <td>1756920</td>\n",
              "    </tr>\n",
              "    <tr>\n",
              "      <th>romance</th>\n",
              "      <td>1231926</td>\n",
              "    </tr>\n",
              "    <tr>\n",
              "      <th>mystery</th>\n",
              "      <td>872282</td>\n",
              "    </tr>\n",
              "  </tbody>\n",
              "</table>\n",
              "</div>"
            ],
            "text/plain": [
              "            count\n",
              "tag_name         \n",
              "fiction   3688819\n",
              "fantasy   3548157\n",
              "classics  1756920\n",
              "romance   1231926\n",
              "mystery    872282"
            ]
          },
          "execution_count": null,
          "metadata": {},
          "output_type": "execute_result"
        }
      ],
      "source": [
        "tag_counts.sort_values('count', ascending=False, inplace=True)\n",
        "tag_counts.head()"
      ]
    },
    {
      "cell_type": "code",
      "execution_count": null,
      "metadata": {
        "colab": {
          "background_save": true
        },
        "id": "cjaPpqClNikc",
        "outputId": "11e7a6f1-d813-404f-941f-9b018664117e"
      },
      "outputs": [
        {
          "data": {
            "image/png": "[encoded data removed]",
            "text/plain": [
              "<Figure size 864x576 with 1 Axes>"
            ]
          },
          "metadata": {},
          "output_type": "display_data"
        }
      ],
      "source": [
        "plt.figure(figsize=(12,8))\n",
        "sns.barplot(x='count', y=tag_counts.index, data=tag_counts, orient='h');"
      ]
    },
    {
      "cell_type": "code",
      "execution_count": null,
      "metadata": {
        "colab": {
          "background_save": true
        },
        "id": "qEdY53M-Niq0",
        "outputId": "d270255b-b77d-45cf-e031-a4ec6a367f46"
      },
      "outputs": [
        {
          "data": {
            "text/plain": [
              "array([['The Fellowship of the Ring (The Lord of the Rings, #1)'],\n",
              "       ['The Two Towers (The Lord of the Rings, #2)'],\n",
              "       ['The Return of the King (The Lord of the Rings, #3)'],\n",
              "       ['The Lord of the Rings (The Lord of the Rings, #1-3)'],\n",
              "       ['J.R.R. Tolkien 4-Book Boxed Set: The Hobbit and The Lord of the Rings'],\n",
              "       ['The Lord of the Rings: The Art of The Fellowship of the Ring'],\n",
              "       ['The Lord of the Rings: Weapons and Warfare'],\n",
              "       ['The Lord of the Rings: The Return of the King: Visual Companion'],\n",
              "       ['The Lord of the Rings Sketchbook']], dtype=object)"
            ]
          },
          "execution_count": null,
          "metadata": {},
          "output_type": "execute_result"
        }
      ],
      "source": [
        "#Series of books\n",
        "subtitle = 'the lord of the rings'\n",
        "books[books.title.str.lower().str.find(subtitle) > -1][['title']].values"
      ]
    },
    {
      "cell_type": "code",
      "execution_count": null,
      "metadata": {
        "colab": {
          "background_save": true
        },
        "id": "w_UI0WGrN0_R"
      },
      "outputs": [],
      "source": [
        "book_series = books[books.title.str.contains('\\(.*[,:]') == True][['title', 'average_rating']]"
      ]
    },
    {
      "cell_type": "code",
      "execution_count": null,
      "metadata": {
        "colab": {
          "background_save": true
        },
        "id": "c63N15M1N1Kc",
        "outputId": "05226a56-07b5-419c-fc20-aaf64aa59e86"
      },
      "outputs": [
        {
          "name": "stdout",
          "output_type": "stream",
          "text": [
            "There are 4171 books that are in series\n"
          ]
        }
      ],
      "source": [
        "print('There are {} books that are in series'.format(book_series.shape[0]))\n"
      ]
    },
    {
      "cell_type": "code",
      "execution_count": null,
      "metadata": {
        "colab": {
          "background_save": true
        },
        "id": "igApoDbAN1QO",
        "outputId": "6fec9b7c-5094-4702-96fd-e4d97f39618b"
      },
      "outputs": [
        {
          "data": {
            "text/html": [
              "<div>\n",
              "<style scoped>\n",
              "    .dataframe tbody tr th:only-of-type {\n",
              "        vertical-align: middle;\n",
              "    }\n",
              "\n",
              "    .dataframe tbody tr th {\n",
              "        vertical-align: top;\n",
              "    }\n",
              "\n",
              "    .dataframe thead th {\n",
              "        text-align: right;\n",
              "    }\n",
              "</style>\n",
              "<table border=\"1\" class=\"dataframe\">\n",
              "  <thead>\n",
              "    <tr style=\"text-align: right;\">\n",
              "      <th></th>\n",
              "      <th>title</th>\n",
              "      <th>average_rating</th>\n",
              "    </tr>\n",
              "  </thead>\n",
              "  <tbody>\n",
              "    <tr>\n",
              "      <th>0</th>\n",
              "      <td>The Hunger Games (The Hunger Games, #1)</td>\n",
              "      <td>4.34</td>\n",
              "    </tr>\n",
              "    <tr>\n",
              "      <th>1</th>\n",
              "      <td>Harry Potter and the Sorcerer's Stone (Harry P...</td>\n",
              "      <td>4.44</td>\n",
              "    </tr>\n",
              "    <tr>\n",
              "      <th>2</th>\n",
              "      <td>Twilight (Twilight, #1)</td>\n",
              "      <td>3.57</td>\n",
              "    </tr>\n",
              "    <tr>\n",
              "      <th>8</th>\n",
              "      <td>Angels &amp; Demons  (Robert Langdon, #1)</td>\n",
              "      <td>3.85</td>\n",
              "    </tr>\n",
              "    <tr>\n",
              "      <th>11</th>\n",
              "      <td>Divergent (Divergent, #1)</td>\n",
              "      <td>4.24</td>\n",
              "    </tr>\n",
              "  </tbody>\n",
              "</table>\n",
              "</div>"
            ],
            "text/plain": [
              "                                                title  average_rating\n",
              "0             The Hunger Games (The Hunger Games, #1)            4.34\n",
              "1   Harry Potter and the Sorcerer's Stone (Harry P...            4.44\n",
              "2                             Twilight (Twilight, #1)            3.57\n",
              "8               Angels & Demons  (Robert Langdon, #1)            3.85\n",
              "11                          Divergent (Divergent, #1)            4.24"
            ]
          },
          "execution_count": null,
          "metadata": {},
          "output_type": "execute_result"
        }
      ],
      "source": [
        "book_series.head()"
      ]
    },
    {
      "cell_type": "code",
      "execution_count": null,
      "metadata": {
        "colab": {
          "background_save": true
        },
        "id": "z8KAilANN1V-",
        "outputId": "d2e273f9-c079-4736-ac17-0a888275588d"
      },
      "outputs": [
        {
          "data": {
            "text/html": [
              "<div>\n",
              "<style scoped>\n",
              "    .dataframe tbody tr th:only-of-type {\n",
              "        vertical-align: middle;\n",
              "    }\n",
              "\n",
              "    .dataframe tbody tr th {\n",
              "        vertical-align: top;\n",
              "    }\n",
              "\n",
              "    .dataframe thead th {\n",
              "        text-align: right;\n",
              "    }\n",
              "</style>\n",
              "<table border=\"1\" class=\"dataframe\">\n",
              "  <thead>\n",
              "    <tr style=\"text-align: right;\">\n",
              "      <th></th>\n",
              "      <th>title</th>\n",
              "      <th>average_rating</th>\n",
              "    </tr>\n",
              "  </thead>\n",
              "  <tbody>\n",
              "    <tr>\n",
              "      <th>0</th>\n",
              "      <td>The Hunger Games</td>\n",
              "      <td>4.34</td>\n",
              "    </tr>\n",
              "    <tr>\n",
              "      <th>1</th>\n",
              "      <td>Harry Potter</td>\n",
              "      <td>4.44</td>\n",
              "    </tr>\n",
              "    <tr>\n",
              "      <th>2</th>\n",
              "      <td>Twilight</td>\n",
              "      <td>3.57</td>\n",
              "    </tr>\n",
              "    <tr>\n",
              "      <th>8</th>\n",
              "      <td>Robert Langdon</td>\n",
              "      <td>3.85</td>\n",
              "    </tr>\n",
              "    <tr>\n",
              "      <th>11</th>\n",
              "      <td>Divergent</td>\n",
              "      <td>4.24</td>\n",
              "    </tr>\n",
              "  </tbody>\n",
              "</table>\n",
              "</div>"
            ],
            "text/plain": [
              "               title  average_rating\n",
              "0   The Hunger Games            4.34\n",
              "1       Harry Potter            4.44\n",
              "2           Twilight            3.57\n",
              "8     Robert Langdon            3.85\n",
              "11         Divergent            4.24"
            ]
          },
          "execution_count": null,
          "metadata": {},
          "output_type": "execute_result"
        }
      ],
      "source": [
        "series = book_series.copy()\n",
        "series['title'] = series['title'].str.findall('\\(.*[,:]').apply(lambda x: x.pop()[1:-1])\n",
        "series.head()"
      ]
    },
    {
      "cell_type": "code",
      "execution_count": null,
      "metadata": {
        "colab": {
          "background_save": true
        },
        "id": "aeYTJI1qOr-T"
      },
      "outputs": [],
      "source": [
        "#Correlation\n",
        "cols = ['books_count','original_publication_year','average_rating','ratings_count','work_ratings_count','work_text_reviews_count']"
      ]
    },
    {
      "cell_type": "code",
      "execution_count": null,
      "metadata": {
        "colab": {
          "background_save": true
        },
        "id": "w6XXc3CTOsCy",
        "outputId": "9e80f1db-46e9-4b83-d5fe-bca68ad0681e"
      },
      "outputs": [
        {
          "data": {
            "text/html": [
              "<div>\n",
              "<style scoped>\n",
              "    .dataframe tbody tr th:only-of-type {\n",
              "        vertical-align: middle;\n",
              "    }\n",
              "\n",
              "    .dataframe tbody tr th {\n",
              "        vertical-align: top;\n",
              "    }\n",
              "\n",
              "    .dataframe thead th {\n",
              "        text-align: right;\n",
              "    }\n",
              "</style>\n",
              "<table border=\"1\" class=\"dataframe\">\n",
              "  <thead>\n",
              "    <tr style=\"text-align: right;\">\n",
              "      <th></th>\n",
              "      <th>books_count</th>\n",
              "      <th>original_publication_year</th>\n",
              "      <th>average_rating</th>\n",
              "      <th>ratings_count</th>\n",
              "      <th>work_ratings_count</th>\n",
              "      <th>work_text_reviews_count</th>\n",
              "    </tr>\n",
              "  </thead>\n",
              "  <tbody>\n",
              "    <tr>\n",
              "      <th>books_count</th>\n",
              "      <td>1.000000</td>\n",
              "      <td>-0.269374</td>\n",
              "      <td>-0.069888</td>\n",
              "      <td>0.324235</td>\n",
              "      <td>0.333664</td>\n",
              "      <td>0.198698</td>\n",
              "    </tr>\n",
              "    <tr>\n",
              "      <th>original_publication_year</th>\n",
              "      <td>-0.269374</td>\n",
              "      <td>1.000000</td>\n",
              "      <td>-0.000429</td>\n",
              "      <td>-0.017774</td>\n",
              "      <td>-0.018123</td>\n",
              "      <td>0.033506</td>\n",
              "    </tr>\n",
              "    <tr>\n",
              "      <th>average_rating</th>\n",
              "      <td>-0.069888</td>\n",
              "      <td>-0.000429</td>\n",
              "      <td>1.000000</td>\n",
              "      <td>0.044990</td>\n",
              "      <td>0.045042</td>\n",
              "      <td>0.007481</td>\n",
              "    </tr>\n",
              "    <tr>\n",
              "      <th>ratings_count</th>\n",
              "      <td>0.324235</td>\n",
              "      <td>-0.017774</td>\n",
              "      <td>0.044990</td>\n",
              "      <td>1.000000</td>\n",
              "      <td>0.995068</td>\n",
              "      <td>0.779635</td>\n",
              "    </tr>\n",
              "    <tr>\n",
              "      <th>work_ratings_count</th>\n",
              "      <td>0.333664</td>\n",
              "      <td>-0.018123</td>\n",
              "      <td>0.045042</td>\n",
              "      <td>0.995068</td>\n",
              "      <td>1.000000</td>\n",
              "      <td>0.807009</td>\n",
              "    </tr>\n",
              "    <tr>\n",
              "      <th>work_text_reviews_count</th>\n",
              "      <td>0.198698</td>\n",
              "      <td>0.033506</td>\n",
              "      <td>0.007481</td>\n",
              "      <td>0.779635</td>\n",
              "      <td>0.807009</td>\n",
              "      <td>1.000000</td>\n",
              "    </tr>\n",
              "  </tbody>\n",
              "</table>\n",
              "</div>"
            ],
            "text/plain": [
              "                           books_count  ...  work_text_reviews_count\n",
              "books_count                   1.000000  ...                 0.198698\n",
              "original_publication_year    -0.269374  ...                 0.033506\n",
              "average_rating               -0.069888  ...                 0.007481\n",
              "ratings_count                 0.324235  ...                 0.779635\n",
              "work_ratings_count            0.333664  ...                 0.807009\n",
              "work_text_reviews_count       0.198698  ...                 1.000000\n",
              "\n",
              "[6 rows x 6 columns]"
            ]
          },
          "execution_count": null,
          "metadata": {},
          "output_type": "execute_result"
        }
      ],
      "source": [
        "corr = books[cols].corr()\n",
        "corr"
      ]
    },
    {
      "cell_type": "code",
      "execution_count": null,
      "metadata": {
        "colab": {
          "background_save": true
        },
        "id": "yvQzSl0HOsIo",
        "outputId": "0be113d6-0fcb-47c4-da4c-217fd28c2931"
      },
      "outputs": [
        {
          "data": {
            "image/png": "[encoded data removed]",
            "text/plain": [
              "<Figure size 936x576 with 2 Axes>"
            ]
          },
          "metadata": {},
          "output_type": "display_data"
        }
      ],
      "source": [
        "plt.figure(figsize=(13,8))\n",
        "sns.heatmap(corr, vmin = -1, vmax = 1, center = 0, cmap = 'coolwarm', annot=True);"
      ]
    },
    {
      "cell_type": "code",
      "execution_count": null,
      "metadata": {
        "colab": {
          "background_save": true
        },
        "id": "0H5NaUQOOsMW",
        "outputId": "e1daea4c-db9a-4230-8f15-d9966b6e04ee"
      },
      "outputs": [
        {
          "data": {
            "image/png": "[encoded data removed]",
            "text/plain": [
              "<Figure size 936x576 with 2 Axes>"
            ]
          },
          "metadata": {},
          "output_type": "display_data"
        }
      ],
      "source": [
        "#Removing the Duplicate Top-Half\n",
        "mask = np.zeros(corr.shape, dtype=bool)\n",
        "mask[np.triu_indices(len(mask))] = True\n",
        "\n",
        "plt.figure(figsize=(13,8))\n",
        "sns.heatmap(corr, vmin = -1, vmax = 1, center = 0, cmap = 'coolwarm', annot = True, mask = mask);"
      ]
    },
    {
      "cell_type": "markdown",
      "metadata": {
        "id": "YLxDcV-1RfGv"
      },
      "source": [
        "# Simple recommender"
      ]
    },
    {
      "cell_type": "code",
      "execution_count": null,
      "metadata": {
        "colab": {
          "background_save": true
        },
        "id": "Khv-OkDTRfGw"
      },
      "outputs": [],
      "source": [
        "v = books['ratings_count']\n",
        "m = books['ratings_count'].quantile(0.95)\n",
        "R = books['average_rating']\n",
        "C = books['average_rating'].mean()\n",
        "W = (R*v + C*m) / (v + m)"
      ]
    },
    {
      "cell_type": "code",
      "execution_count": null,
      "metadata": {
        "colab": {
          "background_save": true
        },
        "id": "EXsf9jLKRfGw"
      },
      "outputs": [],
      "source": [
        "books['weighted_rating'] = W"
      ]
    },
    {
      "cell_type": "code",
      "execution_count": null,
      "metadata": {
        "colab": {
          "background_save": true
        },
        "id": "47svgZFFRfGw"
      },
      "outputs": [],
      "source": [
        "qualified  = books.sort_values('weighted_rating', ascending=False).head(250)"
      ]
    },
    {
      "cell_type": "code",
      "execution_count": null,
      "metadata": {
        "colab": {
          "background_save": true
        },
        "id": "O8goDtq9RfGx",
        "outputId": "6d3f6129-fe0c-48cf-a98f-a38982093e2c"
      },
      "outputs": [
        {
          "data": {
            "text/html": [
              "<div>\n",
              "<style scoped>\n",
              "    .dataframe tbody tr th:only-of-type {\n",
              "        vertical-align: middle;\n",
              "    }\n",
              "\n",
              "    .dataframe tbody tr th {\n",
              "        vertical-align: top;\n",
              "    }\n",
              "\n",
              "    .dataframe thead th {\n",
              "        text-align: right;\n",
              "    }\n",
              "</style>\n",
              "<table border=\"1\" class=\"dataframe\">\n",
              "  <thead>\n",
              "    <tr style=\"text-align: right;\">\n",
              "      <th></th>\n",
              "      <th>title</th>\n",
              "      <th>authors</th>\n",
              "      <th>average_rating</th>\n",
              "      <th>weighted_rating</th>\n",
              "    </tr>\n",
              "  </thead>\n",
              "  <tbody>\n",
              "    <tr>\n",
              "      <th>24</th>\n",
              "      <td>Harry Potter and the Deathly Hallows (Harry Po...</td>\n",
              "      <td>J.K. Rowling, Mary GrandPré</td>\n",
              "      <td>4.61</td>\n",
              "      <td>4.555956</td>\n",
              "    </tr>\n",
              "    <tr>\n",
              "      <th>26</th>\n",
              "      <td>Harry Potter and the Half-Blood Prince (Harry ...</td>\n",
              "      <td>J.K. Rowling, Mary GrandPré</td>\n",
              "      <td>4.54</td>\n",
              "      <td>4.490428</td>\n",
              "    </tr>\n",
              "    <tr>\n",
              "      <th>17</th>\n",
              "      <td>Harry Potter and the Prisoner of Azkaban (Harr...</td>\n",
              "      <td>J.K. Rowling, Mary GrandPré, Rufus Beck</td>\n",
              "      <td>4.53</td>\n",
              "      <td>4.485090</td>\n",
              "    </tr>\n",
              "    <tr>\n",
              "      <th>23</th>\n",
              "      <td>Harry Potter and the Goblet of Fire (Harry Pot...</td>\n",
              "      <td>J.K. Rowling, Mary GrandPré</td>\n",
              "      <td>4.53</td>\n",
              "      <td>4.483227</td>\n",
              "    </tr>\n",
              "    <tr>\n",
              "      <th>1</th>\n",
              "      <td>Harry Potter and the Sorcerer's Stone (Harry P...</td>\n",
              "      <td>J.K. Rowling, Mary GrandPré</td>\n",
              "      <td>4.44</td>\n",
              "      <td>4.424365</td>\n",
              "    </tr>\n",
              "    <tr>\n",
              "      <th>20</th>\n",
              "      <td>Harry Potter and the Order of the Phoenix (Har...</td>\n",
              "      <td>J.K. Rowling, Mary GrandPré</td>\n",
              "      <td>4.46</td>\n",
              "      <td>4.419054</td>\n",
              "    </tr>\n",
              "    <tr>\n",
              "      <th>30</th>\n",
              "      <td>The Help</td>\n",
              "      <td>Kathryn Stockett</td>\n",
              "      <td>4.45</td>\n",
              "      <td>4.405158</td>\n",
              "    </tr>\n",
              "    <tr>\n",
              "      <th>38</th>\n",
              "      <td>A Game of Thrones (A Song of Ice and Fire, #1)</td>\n",
              "      <td>George R.R. Martin</td>\n",
              "      <td>4.45</td>\n",
              "      <td>4.398759</td>\n",
              "    </tr>\n",
              "    <tr>\n",
              "      <th>134</th>\n",
              "      <td>A Storm of Swords (A Song of Ice and Fire, #3)</td>\n",
              "      <td>George R.R. Martin</td>\n",
              "      <td>4.54</td>\n",
              "      <td>4.396645</td>\n",
              "    </tr>\n",
              "    <tr>\n",
              "      <th>421</th>\n",
              "      <td>Harry Potter Boxset (Harry Potter, #1-7)</td>\n",
              "      <td>J.K. Rowling</td>\n",
              "      <td>4.74</td>\n",
              "      <td>4.391147</td>\n",
              "    </tr>\n",
              "    <tr>\n",
              "      <th>191</th>\n",
              "      <td>The Name of the Wind (The Kingkiller Chronicle...</td>\n",
              "      <td>Patrick Rothfuss</td>\n",
              "      <td>4.55</td>\n",
              "      <td>4.386341</td>\n",
              "    </tr>\n",
              "    <tr>\n",
              "      <th>160</th>\n",
              "      <td>The Return of the King (The Lord of the Rings,...</td>\n",
              "      <td>J.R.R. Tolkien</td>\n",
              "      <td>4.51</td>\n",
              "      <td>4.373561</td>\n",
              "    </tr>\n",
              "    <tr>\n",
              "      <th>174</th>\n",
              "      <td>The Last Olympian (Percy Jackson and the Olymp...</td>\n",
              "      <td>Rick Riordan</td>\n",
              "      <td>4.50</td>\n",
              "      <td>4.350597</td>\n",
              "    </tr>\n",
              "    <tr>\n",
              "      <th>22</th>\n",
              "      <td>Harry Potter and the Chamber of Secrets (Harry...</td>\n",
              "      <td>J.K. Rowling, Mary GrandPré</td>\n",
              "      <td>4.37</td>\n",
              "      <td>4.337845</td>\n",
              "    </tr>\n",
              "    <tr>\n",
              "      <th>306</th>\n",
              "      <td>The Wise Man's Fear (The Kingkiller Chronicle,...</td>\n",
              "      <td>Patrick Rothfuss</td>\n",
              "      <td>4.57</td>\n",
              "      <td>4.337421</td>\n",
              "    </tr>\n",
              "  </tbody>\n",
              "</table>\n",
              "</div>"
            ],
            "text/plain": [
              "                                                 title  ... weighted_rating\n",
              "24   Harry Potter and the Deathly Hallows (Harry Po...  ...        4.555956\n",
              "26   Harry Potter and the Half-Blood Prince (Harry ...  ...        4.490428\n",
              "17   Harry Potter and the Prisoner of Azkaban (Harr...  ...        4.485090\n",
              "23   Harry Potter and the Goblet of Fire (Harry Pot...  ...        4.483227\n",
              "1    Harry Potter and the Sorcerer's Stone (Harry P...  ...        4.424365\n",
              "20   Harry Potter and the Order of the Phoenix (Har...  ...        4.419054\n",
              "30                                            The Help  ...        4.405158\n",
              "38      A Game of Thrones (A Song of Ice and Fire, #1)  ...        4.398759\n",
              "134     A Storm of Swords (A Song of Ice and Fire, #3)  ...        4.396645\n",
              "421           Harry Potter Boxset (Harry Potter, #1-7)  ...        4.391147\n",
              "191  The Name of the Wind (The Kingkiller Chronicle...  ...        4.386341\n",
              "160  The Return of the King (The Lord of the Rings,...  ...        4.373561\n",
              "174  The Last Olympian (Percy Jackson and the Olymp...  ...        4.350597\n",
              "22   Harry Potter and the Chamber of Secrets (Harry...  ...        4.337845\n",
              "306  The Wise Man's Fear (The Kingkiller Chronicle,...  ...        4.337421\n",
              "\n",
              "[15 rows x 4 columns]"
            ]
          },
          "execution_count": null,
          "metadata": {},
          "output_type": "execute_result"
        }
      ],
      "source": [
        "qualified[['title', 'authors', 'average_rating', 'weighted_rating']].head(15)\n"
      ]
    },
    {
      "cell_type": "markdown",
      "metadata": {
        "id": "f8vjzH-2RfGx"
      },
      "source": [
        "# Top \"Genres\" Books"
      ]
    },
    {
      "cell_type": "code",
      "execution_count": null,
      "metadata": {
        "colab": {
          "background_save": true
        },
        "id": "6EJ2orF-RfGy",
        "outputId": "ff2cee27-8fed-415a-ab40-0420bc2d649f"
      },
      "outputs": [
        {
          "data": {
            "text/html": [
              "<div>\n",
              "<style scoped>\n",
              "    .dataframe tbody tr th:only-of-type {\n",
              "        vertical-align: middle;\n",
              "    }\n",
              "\n",
              "    .dataframe tbody tr th {\n",
              "        vertical-align: top;\n",
              "    }\n",
              "\n",
              "    .dataframe thead th {\n",
              "        text-align: right;\n",
              "    }\n",
              "</style>\n",
              "<table border=\"1\" class=\"dataframe\">\n",
              "  <thead>\n",
              "    <tr style=\"text-align: right;\">\n",
              "      <th></th>\n",
              "      <th>goodreads_book_id</th>\n",
              "      <th>tag_id</th>\n",
              "      <th>count</th>\n",
              "    </tr>\n",
              "  </thead>\n",
              "  <tbody>\n",
              "    <tr>\n",
              "      <th>0</th>\n",
              "      <td>1</td>\n",
              "      <td>30574</td>\n",
              "      <td>167697</td>\n",
              "    </tr>\n",
              "    <tr>\n",
              "      <th>1</th>\n",
              "      <td>1</td>\n",
              "      <td>11305</td>\n",
              "      <td>37174</td>\n",
              "    </tr>\n",
              "    <tr>\n",
              "      <th>2</th>\n",
              "      <td>1</td>\n",
              "      <td>11557</td>\n",
              "      <td>34173</td>\n",
              "    </tr>\n",
              "    <tr>\n",
              "      <th>3</th>\n",
              "      <td>1</td>\n",
              "      <td>8717</td>\n",
              "      <td>12986</td>\n",
              "    </tr>\n",
              "    <tr>\n",
              "      <th>4</th>\n",
              "      <td>1</td>\n",
              "      <td>33114</td>\n",
              "      <td>12716</td>\n",
              "    </tr>\n",
              "  </tbody>\n",
              "</table>\n",
              "</div>"
            ],
            "text/plain": [
              "   goodreads_book_id  tag_id   count\n",
              "0                  1   30574  167697\n",
              "1                  1   11305   37174\n",
              "2                  1   11557   34173\n",
              "3                  1    8717   12986\n",
              "4                  1   33114   12716"
            ]
          },
          "execution_count": null,
          "metadata": {},
          "output_type": "execute_result"
        }
      ],
      "source": [
        "book_tags.head()"
      ]
    },
    {
      "cell_type": "code",
      "execution_count": null,
      "metadata": {
        "colab": {
          "background_save": true
        },
        "id": "vw21FvFqRfGy",
        "outputId": "69ef36b5-43f7-4576-c2c6-2c6d1e41082b"
      },
      "outputs": [
        {
          "data": {
            "text/html": [
              "<div>\n",
              "<style scoped>\n",
              "    .dataframe tbody tr th:only-of-type {\n",
              "        vertical-align: middle;\n",
              "    }\n",
              "\n",
              "    .dataframe tbody tr th {\n",
              "        vertical-align: top;\n",
              "    }\n",
              "\n",
              "    .dataframe thead th {\n",
              "        text-align: right;\n",
              "    }\n",
              "</style>\n",
              "<table border=\"1\" class=\"dataframe\">\n",
              "  <thead>\n",
              "    <tr style=\"text-align: right;\">\n",
              "      <th></th>\n",
              "      <th>tag_id</th>\n",
              "      <th>tag_name</th>\n",
              "    </tr>\n",
              "  </thead>\n",
              "  <tbody>\n",
              "    <tr>\n",
              "      <th>0</th>\n",
              "      <td>0</td>\n",
              "      <td>-</td>\n",
              "    </tr>\n",
              "    <tr>\n",
              "      <th>1</th>\n",
              "      <td>1</td>\n",
              "      <td>--1-</td>\n",
              "    </tr>\n",
              "    <tr>\n",
              "      <th>2</th>\n",
              "      <td>2</td>\n",
              "      <td>--10-</td>\n",
              "    </tr>\n",
              "    <tr>\n",
              "      <th>3</th>\n",
              "      <td>3</td>\n",
              "      <td>--12-</td>\n",
              "    </tr>\n",
              "    <tr>\n",
              "      <th>4</th>\n",
              "      <td>4</td>\n",
              "      <td>--122-</td>\n",
              "    </tr>\n",
              "  </tbody>\n",
              "</table>\n",
              "</div>"
            ],
            "text/plain": [
              "   tag_id tag_name\n",
              "0       0        -\n",
              "1       1     --1-\n",
              "2       2    --10-\n",
              "3       3    --12-\n",
              "4       4   --122-"
            ]
          },
          "execution_count": null,
          "metadata": {},
          "output_type": "execute_result"
        }
      ],
      "source": [
        "tags.head()"
      ]
    },
    {
      "cell_type": "code",
      "execution_count": null,
      "metadata": {
        "colab": {
          "background_save": true
        },
        "id": "Rrx49EUFRfGy"
      },
      "outputs": [],
      "source": [
        "genres = [\"Art\", \"Biography\", \"Business\", \"Chick Lit\", \"Children's\", \"Christian\", \"Classics\",\n",
        "          \"Comics\", \"Contemporary\", \"Cookbooks\", \"Crime\", \"Ebooks\", \"Fantasy\", \"Fiction\",\n",
        "          \"Gay and Lesbian\", \"Graphic Novels\", \"Historical Fiction\", \"History\", \"Horror\",\n",
        "          \"Humor and Comedy\", \"Manga\", \"Memoir\", \"Music\", \"Mystery\", \"Nonfiction\", \"Paranormal\",\n",
        "          \"Philosophy\", \"Poetry\", \"Psychology\", \"Religion\", \"Romance\", \"Science\", \"Science Fiction\",\n",
        "          \"Self Help\", \"Suspense\", \"Spirituality\", \"Sports\", \"Thriller\", \"Travel\", \"Young Adult\"]"
      ]
    },
    {
      "cell_type": "code",
      "execution_count": null,
      "metadata": {
        "colab": {
          "background_save": true
        },
        "id": "pJ74pSrSRfGz",
        "outputId": "453bbab4-558a-4493-c906-6883d11a6ec4"
      },
      "outputs": [
        {
          "data": {
            "text/plain": [
              "['art', 'biography', 'business', 'chick lit']"
            ]
          },
          "execution_count": null,
          "metadata": {},
          "output_type": "execute_result"
        }
      ],
      "source": [
        "genres = list(map(str.lower, genres))\n",
        "genres[:4]"
      ]
    },
    {
      "cell_type": "code",
      "execution_count": null,
      "metadata": {
        "colab": {
          "background_save": true
        },
        "id": "aL0zfUuiRfGz",
        "outputId": "678a1a43-4b3e-4087-8171-c69efe126c2f"
      },
      "outputs": [
        {
          "data": {
            "text/html": [
              "<div>\n",
              "<style scoped>\n",
              "    .dataframe tbody tr th:only-of-type {\n",
              "        vertical-align: middle;\n",
              "    }\n",
              "\n",
              "    .dataframe tbody tr th {\n",
              "        vertical-align: top;\n",
              "    }\n",
              "\n",
              "    .dataframe thead th {\n",
              "        text-align: right;\n",
              "    }\n",
              "</style>\n",
              "<table border=\"1\" class=\"dataframe\">\n",
              "  <thead>\n",
              "    <tr style=\"text-align: right;\">\n",
              "      <th></th>\n",
              "      <th>tag_id</th>\n",
              "      <th>tag_name</th>\n",
              "    </tr>\n",
              "  </thead>\n",
              "  <tbody>\n",
              "    <tr>\n",
              "      <th>2938</th>\n",
              "      <td>2938</td>\n",
              "      <td>art</td>\n",
              "    </tr>\n",
              "    <tr>\n",
              "      <th>4605</th>\n",
              "      <td>4605</td>\n",
              "      <td>biography</td>\n",
              "    </tr>\n",
              "    <tr>\n",
              "      <th>5951</th>\n",
              "      <td>5951</td>\n",
              "      <td>business</td>\n",
              "    </tr>\n",
              "    <tr>\n",
              "      <th>7077</th>\n",
              "      <td>7077</td>\n",
              "      <td>christian</td>\n",
              "    </tr>\n",
              "    <tr>\n",
              "      <th>7457</th>\n",
              "      <td>7457</td>\n",
              "      <td>classics</td>\n",
              "    </tr>\n",
              "  </tbody>\n",
              "</table>\n",
              "</div>"
            ],
            "text/plain": [
              "      tag_id   tag_name\n",
              "2938    2938        art\n",
              "4605    4605  biography\n",
              "5951    5951   business\n",
              "7077    7077  christian\n",
              "7457    7457   classics"
            ]
          },
          "execution_count": null,
          "metadata": {},
          "output_type": "execute_result"
        }
      ],
      "source": [
        "available_genres = tags.loc[tags.tag_name.str.lower().isin(genres)]\n",
        "available_genres.head()"
      ]
    },
    {
      "cell_type": "code",
      "execution_count": null,
      "metadata": {
        "colab": {
          "background_save": true
        },
        "id": "2ITMf1jYRfG0"
      },
      "outputs": [],
      "source": [
        "available_genres_books = book_tags[book_tags.tag_id.isin(available_genres.tag_id)]"
      ]
    },
    {
      "cell_type": "code",
      "execution_count": null,
      "metadata": {
        "colab": {
          "background_save": true
        },
        "id": "okc8uqA3RfG0",
        "outputId": "e2bec729-f919-4ea9-bbe7-fa5bb34fc18c"
      },
      "outputs": [
        {
          "name": "stdout",
          "output_type": "stream",
          "text": [
            "There are 60573 books that are tagged with above genres\n"
          ]
        }
      ],
      "source": [
        "print('There are {} books that are tagged with above genres'.format(available_genres_books.shape[0]))"
      ]
    },
    {
      "cell_type": "code",
      "execution_count": null,
      "metadata": {
        "colab": {
          "background_save": true
        },
        "id": "K6hN51z_RfG0",
        "outputId": "c02c222a-0eec-4126-cab8-c29fe1558d55"
      },
      "outputs": [
        {
          "data": {
            "text/html": [
              "<div>\n",
              "<style scoped>\n",
              "    .dataframe tbody tr th:only-of-type {\n",
              "        vertical-align: middle;\n",
              "    }\n",
              "\n",
              "    .dataframe tbody tr th {\n",
              "        vertical-align: top;\n",
              "    }\n",
              "\n",
              "    .dataframe thead th {\n",
              "        text-align: right;\n",
              "    }\n",
              "</style>\n",
              "<table border=\"1\" class=\"dataframe\">\n",
              "  <thead>\n",
              "    <tr style=\"text-align: right;\">\n",
              "      <th></th>\n",
              "      <th>goodreads_book_id</th>\n",
              "      <th>tag_id</th>\n",
              "      <th>count</th>\n",
              "    </tr>\n",
              "  </thead>\n",
              "  <tbody>\n",
              "    <tr>\n",
              "      <th>1</th>\n",
              "      <td>1</td>\n",
              "      <td>11305</td>\n",
              "      <td>37174</td>\n",
              "    </tr>\n",
              "    <tr>\n",
              "      <th>5</th>\n",
              "      <td>1</td>\n",
              "      <td>11743</td>\n",
              "      <td>9954</td>\n",
              "    </tr>\n",
              "    <tr>\n",
              "      <th>25</th>\n",
              "      <td>1</td>\n",
              "      <td>7457</td>\n",
              "      <td>958</td>\n",
              "    </tr>\n",
              "    <tr>\n",
              "      <th>38</th>\n",
              "      <td>1</td>\n",
              "      <td>22973</td>\n",
              "      <td>673</td>\n",
              "    </tr>\n",
              "    <tr>\n",
              "      <th>52</th>\n",
              "      <td>1</td>\n",
              "      <td>20939</td>\n",
              "      <td>465</td>\n",
              "    </tr>\n",
              "  </tbody>\n",
              "</table>\n",
              "</div>"
            ],
            "text/plain": [
              "    goodreads_book_id  tag_id  count\n",
              "1                   1   11305  37174\n",
              "5                   1   11743   9954\n",
              "25                  1    7457    958\n",
              "38                  1   22973    673\n",
              "52                  1   20939    465"
            ]
          },
          "execution_count": null,
          "metadata": {},
          "output_type": "execute_result"
        }
      ],
      "source": [
        "available_genres_books.head()"
      ]
    },
    {
      "cell_type": "code",
      "execution_count": null,
      "metadata": {
        "colab": {
          "background_save": true
        },
        "id": "lQLlja8_RfG1",
        "outputId": "f2778395-3e00-4dca-8aa0-ec4010986ce7"
      },
      "outputs": [
        {
          "data": {
            "text/html": [
              "<div>\n",
              "<style scoped>\n",
              "    .dataframe tbody tr th:only-of-type {\n",
              "        vertical-align: middle;\n",
              "    }\n",
              "\n",
              "    .dataframe tbody tr th {\n",
              "        vertical-align: top;\n",
              "    }\n",
              "\n",
              "    .dataframe thead th {\n",
              "        text-align: right;\n",
              "    }\n",
              "</style>\n",
              "<table border=\"1\" class=\"dataframe\">\n",
              "  <thead>\n",
              "    <tr style=\"text-align: right;\">\n",
              "      <th></th>\n",
              "      <th>goodreads_book_id</th>\n",
              "      <th>tag_id</th>\n",
              "      <th>count</th>\n",
              "      <th>genre</th>\n",
              "    </tr>\n",
              "  </thead>\n",
              "  <tbody>\n",
              "    <tr>\n",
              "      <th>1</th>\n",
              "      <td>1</td>\n",
              "      <td>11305</td>\n",
              "      <td>37174</td>\n",
              "      <td>fantasy</td>\n",
              "    </tr>\n",
              "    <tr>\n",
              "      <th>5</th>\n",
              "      <td>1</td>\n",
              "      <td>11743</td>\n",
              "      <td>9954</td>\n",
              "      <td>fiction</td>\n",
              "    </tr>\n",
              "    <tr>\n",
              "      <th>25</th>\n",
              "      <td>1</td>\n",
              "      <td>7457</td>\n",
              "      <td>958</td>\n",
              "      <td>classics</td>\n",
              "    </tr>\n",
              "    <tr>\n",
              "      <th>38</th>\n",
              "      <td>1</td>\n",
              "      <td>22973</td>\n",
              "      <td>673</td>\n",
              "      <td>paranormal</td>\n",
              "    </tr>\n",
              "    <tr>\n",
              "      <th>52</th>\n",
              "      <td>1</td>\n",
              "      <td>20939</td>\n",
              "      <td>465</td>\n",
              "      <td>mystery</td>\n",
              "    </tr>\n",
              "  </tbody>\n",
              "</table>\n",
              "</div>"
            ],
            "text/plain": [
              "    goodreads_book_id  tag_id  count       genre\n",
              "1                   1   11305  37174     fantasy\n",
              "5                   1   11743   9954     fiction\n",
              "25                  1    7457    958    classics\n",
              "38                  1   22973    673  paranormal\n",
              "52                  1   20939    465     mystery"
            ]
          },
          "execution_count": null,
          "metadata": {},
          "output_type": "execute_result"
        }
      ],
      "source": [
        "available_genres_books['genre'] = available_genres.tag_name.loc[available_genres_books.tag_id].values\n",
        "available_genres_books.head()"
      ]
    },
    {
      "cell_type": "code",
      "execution_count": null,
      "metadata": {
        "colab": {
          "background_save": true
        },
        "id": "mr83A5b2RfG1"
      },
      "outputs": [],
      "source": [
        "def build_chart(genre, percentile=0.85):\n",
        "    df = available_genres_books[available_genres_books['genre'] == genre.lower()]\n",
        "    qualified = books.set_index('book_id').loc[df.goodreads_book_id]\n",
        "\n",
        "    v = qualified['ratings_count']\n",
        "    m = qualified['ratings_count'].quantile(percentile)\n",
        "    R = qualified['average_rating']\n",
        "    C = qualified['average_rating'].mean()\n",
        "    qualified['weighted_rating'] = (R*v + C*m) / (v + m)\n",
        "\n",
        "    qualified.sort_values('weighted_rating', ascending=False, inplace=True)\n",
        "    return qualified"
      ]
    },
    {
      "cell_type": "code",
      "execution_count": null,
      "metadata": {
        "colab": {
          "background_save": true
        },
        "id": "BTY0ujgnRfG1"
      },
      "outputs": [],
      "source": [
        "cols = ['title','authors','original_publication_year','average_rating','ratings_count','work_text_reviews_count','weighted_rating']\n",
        "genre = 'Fiction'"
      ]
    },
    {
      "cell_type": "code",
      "execution_count": null,
      "metadata": {
        "colab": {
          "background_save": true
        },
        "id": "bn0W2q_bRfG2",
        "outputId": "61a56000-956d-4f6f-8e96-bed451cf1bf0"
      },
      "outputs": [
        {
          "data": {
            "text/html": [
              "<div>\n",
              "<style scoped>\n",
              "    .dataframe tbody tr th:only-of-type {\n",
              "        vertical-align: middle;\n",
              "    }\n",
              "\n",
              "    .dataframe tbody tr th {\n",
              "        vertical-align: top;\n",
              "    }\n",
              "\n",
              "    .dataframe thead th {\n",
              "        text-align: right;\n",
              "    }\n",
              "</style>\n",
              "<table border=\"1\" class=\"dataframe\">\n",
              "  <thead>\n",
              "    <tr style=\"text-align: right;\">\n",
              "      <th></th>\n",
              "      <th>title</th>\n",
              "      <th>authors</th>\n",
              "      <th>original_publication_year</th>\n",
              "      <th>average_rating</th>\n",
              "      <th>ratings_count</th>\n",
              "      <th>work_text_reviews_count</th>\n",
              "      <th>weighted_rating</th>\n",
              "    </tr>\n",
              "    <tr>\n",
              "      <th>book_id</th>\n",
              "      <th></th>\n",
              "      <th></th>\n",
              "      <th></th>\n",
              "      <th></th>\n",
              "      <th></th>\n",
              "      <th></th>\n",
              "      <th></th>\n",
              "    </tr>\n",
              "  </thead>\n",
              "  <tbody>\n",
              "    <tr>\n",
              "      <th>136251</th>\n",
              "      <td>Harry Potter and the Deathly Hallows (Harry Po...</td>\n",
              "      <td>J.K. Rowling, Mary GrandPré</td>\n",
              "      <td>2007</td>\n",
              "      <td>4.61</td>\n",
              "      <td>1746574</td>\n",
              "      <td>51942</td>\n",
              "      <td>4.587098</td>\n",
              "    </tr>\n",
              "    <tr>\n",
              "      <th>862041</th>\n",
              "      <td>Harry Potter Boxset (Harry Potter, #1-7)</td>\n",
              "      <td>J.K. Rowling</td>\n",
              "      <td>1998</td>\n",
              "      <td>4.74</td>\n",
              "      <td>190050</td>\n",
              "      <td>6508</td>\n",
              "      <td>4.544691</td>\n",
              "    </tr>\n",
              "    <tr>\n",
              "      <th>1</th>\n",
              "      <td>Harry Potter and the Half-Blood Prince (Harry ...</td>\n",
              "      <td>J.K. Rowling, Mary GrandPré</td>\n",
              "      <td>2005</td>\n",
              "      <td>4.54</td>\n",
              "      <td>1678823</td>\n",
              "      <td>27520</td>\n",
              "      <td>4.518933</td>\n",
              "    </tr>\n",
              "    <tr>\n",
              "      <th>5</th>\n",
              "      <td>Harry Potter and the Prisoner of Azkaban (Harr...</td>\n",
              "      <td>J.K. Rowling, Mary GrandPré, Rufus Beck</td>\n",
              "      <td>1999</td>\n",
              "      <td>4.53</td>\n",
              "      <td>1832823</td>\n",
              "      <td>36099</td>\n",
              "      <td>4.510997</td>\n",
              "    </tr>\n",
              "    <tr>\n",
              "      <th>6</th>\n",
              "      <td>Harry Potter and the Goblet of Fire (Harry Pot...</td>\n",
              "      <td>J.K. Rowling, Mary GrandPré</td>\n",
              "      <td>2000</td>\n",
              "      <td>4.53</td>\n",
              "      <td>1753043</td>\n",
              "      <td>31084</td>\n",
              "      <td>4.510164</td>\n",
              "    </tr>\n",
              "    <tr>\n",
              "      <th>62291</th>\n",
              "      <td>A Storm of Swords (A Song of Ice and Fire, #3)</td>\n",
              "      <td>George R.R. Martin</td>\n",
              "      <td>2000</td>\n",
              "      <td>4.54</td>\n",
              "      <td>469022</td>\n",
              "      <td>19497</td>\n",
              "      <td>4.471466</td>\n",
              "    </tr>\n",
              "    <tr>\n",
              "      <th>186074</th>\n",
              "      <td>The Name of the Wind (The Kingkiller Chronicle...</td>\n",
              "      <td>Patrick Rothfuss</td>\n",
              "      <td>2007</td>\n",
              "      <td>4.55</td>\n",
              "      <td>400101</td>\n",
              "      <td>28631</td>\n",
              "      <td>4.469922</td>\n",
              "    </tr>\n",
              "    <tr>\n",
              "      <th>1215032</th>\n",
              "      <td>The Wise Man's Fear (The Kingkiller Chronicle,...</td>\n",
              "      <td>Patrick Rothfuss</td>\n",
              "      <td>2011</td>\n",
              "      <td>4.57</td>\n",
              "      <td>245686</td>\n",
              "      <td>15503</td>\n",
              "      <td>4.446163</td>\n",
              "    </tr>\n",
              "    <tr>\n",
              "      <th>18512</th>\n",
              "      <td>The Return of the King (The Lord of the Rings,...</td>\n",
              "      <td>J.R.R. Tolkien</td>\n",
              "      <td>1955</td>\n",
              "      <td>4.51</td>\n",
              "      <td>463959</td>\n",
              "      <td>6644</td>\n",
              "      <td>4.444645</td>\n",
              "    </tr>\n",
              "    <tr>\n",
              "      <th>2</th>\n",
              "      <td>Harry Potter and the Order of the Phoenix (Har...</td>\n",
              "      <td>J.K. Rowling, Mary GrandPré</td>\n",
              "      <td>2003</td>\n",
              "      <td>4.46</td>\n",
              "      <td>1735368</td>\n",
              "      <td>28685</td>\n",
              "      <td>4.442607</td>\n",
              "    </tr>\n",
              "  </tbody>\n",
              "</table>\n",
              "</div>"
            ],
            "text/plain": [
              "                                                     title  ... weighted_rating\n",
              "book_id                                                     ...                \n",
              "136251   Harry Potter and the Deathly Hallows (Harry Po...  ...        4.587098\n",
              "862041            Harry Potter Boxset (Harry Potter, #1-7)  ...        4.544691\n",
              "1        Harry Potter and the Half-Blood Prince (Harry ...  ...        4.518933\n",
              "5        Harry Potter and the Prisoner of Azkaban (Harr...  ...        4.510997\n",
              "6        Harry Potter and the Goblet of Fire (Harry Pot...  ...        4.510164\n",
              "62291       A Storm of Swords (A Song of Ice and Fire, #3)  ...        4.471466\n",
              "186074   The Name of the Wind (The Kingkiller Chronicle...  ...        4.469922\n",
              "1215032  The Wise Man's Fear (The Kingkiller Chronicle,...  ...        4.446163\n",
              "18512    The Return of the King (The Lord of the Rings,...  ...        4.444645\n",
              "2        Harry Potter and the Order of the Phoenix (Har...  ...        4.442607\n",
              "\n",
              "[10 rows x 7 columns]"
            ]
          },
          "execution_count": null,
          "metadata": {},
          "output_type": "execute_result"
        }
      ],
      "source": [
        "build_chart(genre)[cols].head(10)"
      ]
    },
    {
      "cell_type": "code",
      "execution_count": null,
      "metadata": {
        "colab": {
          "background_save": true
        },
        "id": "AqsKTLXKRfG2",
        "outputId": "65259537-3cad-4513-af49-f766727a0e54"
      },
      "outputs": [
        {
          "data": {
            "text/plain": [
              "[(0, 'art'),\n",
              " (1, 'biography'),\n",
              " (2, 'business'),\n",
              " (3, 'christian'),\n",
              " (4, 'classics'),\n",
              " (5, 'comics'),\n",
              " (6, 'contemporary'),\n",
              " (7, 'cookbooks'),\n",
              " (8, 'crime'),\n",
              " (9, 'ebooks'),\n",
              " (10, 'fantasy'),\n",
              " (11, 'fiction'),\n",
              " (12, 'history'),\n",
              " (13, 'horror'),\n",
              " (14, 'manga'),\n",
              " (15, 'memoir'),\n",
              " (16, 'music'),\n",
              " (17, 'mystery'),\n",
              " (18, 'nonfiction'),\n",
              " (19, 'paranormal'),\n",
              " (20, 'philosophy'),\n",
              " (21, 'poetry'),\n",
              " (22, 'psychology'),\n",
              " (23, 'religion'),\n",
              " (24, 'romance'),\n",
              " (25, 'science'),\n",
              " (26, 'spirituality'),\n",
              " (27, 'sports'),\n",
              " (28, 'suspense'),\n",
              " (29, 'thriller'),\n",
              " (30, 'travel')]"
            ]
          },
          "execution_count": null,
          "metadata": {},
          "output_type": "execute_result"
        }
      ],
      "source": [
        "list(enumerate(available_genres.tag_name))"
      ]
    },
    {
      "cell_type": "code",
      "execution_count": null,
      "metadata": {
        "colab": {
          "background_save": true
        },
        "id": "qa2YBFr_RfG2",
        "outputId": "553f8d17-5020-4b78-c8b4-12fbf3c62f21"
      },
      "outputs": [
        {
          "data": {
            "text/html": [
              "<div>\n",
              "<style scoped>\n",
              "    .dataframe tbody tr th:only-of-type {\n",
              "        vertical-align: middle;\n",
              "    }\n",
              "\n",
              "    .dataframe tbody tr th {\n",
              "        vertical-align: top;\n",
              "    }\n",
              "\n",
              "    .dataframe thead th {\n",
              "        text-align: right;\n",
              "    }\n",
              "</style>\n",
              "<table border=\"1\" class=\"dataframe\">\n",
              "  <thead>\n",
              "    <tr style=\"text-align: right;\">\n",
              "      <th></th>\n",
              "      <th>title</th>\n",
              "      <th>authors</th>\n",
              "      <th>original_publication_year</th>\n",
              "      <th>average_rating</th>\n",
              "      <th>ratings_count</th>\n",
              "      <th>work_text_reviews_count</th>\n",
              "      <th>weighted_rating</th>\n",
              "    </tr>\n",
              "    <tr>\n",
              "      <th>book_id</th>\n",
              "      <th></th>\n",
              "      <th></th>\n",
              "      <th></th>\n",
              "      <th></th>\n",
              "      <th></th>\n",
              "      <th></th>\n",
              "      <th></th>\n",
              "    </tr>\n",
              "  </thead>\n",
              "  <tbody>\n",
              "    <tr>\n",
              "      <th>43070</th>\n",
              "      <td>The Essential Calvin and Hobbes: A Calvin and ...</td>\n",
              "      <td>Bill Watterson</td>\n",
              "      <td>1988</td>\n",
              "      <td>4.65</td>\n",
              "      <td>93001</td>\n",
              "      <td>598</td>\n",
              "      <td>4.509084</td>\n",
              "    </tr>\n",
              "    <tr>\n",
              "      <th>77727</th>\n",
              "      <td>Calvin and Hobbes</td>\n",
              "      <td>Bill Watterson, G.B. Trudeau</td>\n",
              "      <td>1987</td>\n",
              "      <td>4.61</td>\n",
              "      <td>117788</td>\n",
              "      <td>684</td>\n",
              "      <td>4.501512</td>\n",
              "    </tr>\n",
              "    <tr>\n",
              "      <th>24812</th>\n",
              "      <td>The Complete Calvin and Hobbes</td>\n",
              "      <td>Bill Watterson</td>\n",
              "      <td>2005</td>\n",
              "      <td>4.82</td>\n",
              "      <td>28900</td>\n",
              "      <td>861</td>\n",
              "      <td>4.451907</td>\n",
              "    </tr>\n",
              "    <tr>\n",
              "      <th>24813</th>\n",
              "      <td>The Calvin and Hobbes Tenth Anniversary Book</td>\n",
              "      <td>Bill Watterson</td>\n",
              "      <td>1995</td>\n",
              "      <td>4.63</td>\n",
              "      <td>48280</td>\n",
              "      <td>346</td>\n",
              "      <td>4.429600</td>\n",
              "    </tr>\n",
              "    <tr>\n",
              "      <th>659469</th>\n",
              "      <td>The Hobbit: Graphic Novel</td>\n",
              "      <td>Chuck Dixon, J.R.R. Tolkien, David Wenzel, Sea...</td>\n",
              "      <td>1989</td>\n",
              "      <td>4.48</td>\n",
              "      <td>155338</td>\n",
              "      <td>957</td>\n",
              "      <td>4.420299</td>\n",
              "    </tr>\n",
              "    <tr>\n",
              "      <th>17131869</th>\n",
              "      <td>Saga, Vol. 2 (Saga, #2)</td>\n",
              "      <td>Brian K. Vaughan, Fiona Staples</td>\n",
              "      <td>2013</td>\n",
              "      <td>4.57</td>\n",
              "      <td>56122</td>\n",
              "      <td>4594</td>\n",
              "      <td>4.411511</td>\n",
              "    </tr>\n",
              "    <tr>\n",
              "      <th>870</th>\n",
              "      <td>Fullmetal Alchemist, Vol. 1 (Fullmetal Alchemi...</td>\n",
              "      <td>Hiromu Arakawa, Akira Watanabe</td>\n",
              "      <td>2002</td>\n",
              "      <td>4.49</td>\n",
              "      <td>93990</td>\n",
              "      <td>1103</td>\n",
              "      <td>4.400446</td>\n",
              "    </tr>\n",
              "    <tr>\n",
              "      <th>19358975</th>\n",
              "      <td>Saga, Vol. 3 (Saga, #3)</td>\n",
              "      <td>Brian K. Vaughan, Fiona Staples</td>\n",
              "      <td>2014</td>\n",
              "      <td>4.56</td>\n",
              "      <td>47549</td>\n",
              "      <td>3506</td>\n",
              "      <td>4.391289</td>\n",
              "    </tr>\n",
              "    <tr>\n",
              "      <th>24814</th>\n",
              "      <td>It's a Magical World: A Calvin and Hobbes Coll...</td>\n",
              "      <td>Bill Watterson</td>\n",
              "      <td>1996</td>\n",
              "      <td>4.75</td>\n",
              "      <td>22351</td>\n",
              "      <td>264</td>\n",
              "      <td>4.391221</td>\n",
              "    </tr>\n",
              "    <tr>\n",
              "      <th>25101</th>\n",
              "      <td>Season of Mists (The Sandman #4)</td>\n",
              "      <td>Neil Gaiman, Matt Wagner, George Pratt, Dick G...</td>\n",
              "      <td>1990</td>\n",
              "      <td>4.54</td>\n",
              "      <td>44811</td>\n",
              "      <td>1261</td>\n",
              "      <td>4.375849</td>\n",
              "    </tr>\n",
              "  </tbody>\n",
              "</table>\n",
              "</div>"
            ],
            "text/plain": [
              "                                                      title  ... weighted_rating\n",
              "book_id                                                      ...                \n",
              "43070     The Essential Calvin and Hobbes: A Calvin and ...  ...        4.509084\n",
              "77727                                     Calvin and Hobbes  ...        4.501512\n",
              "24812                        The Complete Calvin and Hobbes  ...        4.451907\n",
              "24813          The Calvin and Hobbes Tenth Anniversary Book  ...        4.429600\n",
              "659469                            The Hobbit: Graphic Novel  ...        4.420299\n",
              "17131869                            Saga, Vol. 2 (Saga, #2)  ...        4.411511\n",
              "870       Fullmetal Alchemist, Vol. 1 (Fullmetal Alchemi...  ...        4.400446\n",
              "19358975                            Saga, Vol. 3 (Saga, #3)  ...        4.391289\n",
              "24814     It's a Magical World: A Calvin and Hobbes Coll...  ...        4.391221\n",
              "25101                      Season of Mists (The Sandman #4)  ...        4.375849\n",
              "\n",
              "[10 rows x 7 columns]"
            ]
          },
          "execution_count": null,
          "metadata": {},
          "output_type": "execute_result"
        }
      ],
      "source": [
        "idx = 5  # comic\n",
        "build_chart(list(available_genres.tag_name)[idx])[cols].head(10)"
      ]
    },
    {
      "cell_type": "markdown",
      "metadata": {
        "id": "Baq1167XRfG3"
      },
      "source": [
        "# Content Based Recommender"
      ]
    },
    {
      "cell_type": "code",
      "execution_count": null,
      "metadata": {
        "colab": {
          "background_save": true
        },
        "id": "MGDt_pWnRfG3"
      },
      "outputs": [],
      "source": [
        "from sklearn.feature_extraction.text import TfidfVectorizer, CountVectorizer\n",
        "from sklearn.metrics.pairwise import linear_kernel, cosine_similarity"
      ]
    },
    {
      "cell_type": "code",
      "execution_count": null,
      "metadata": {
        "colab": {
          "background_save": true
        },
        "id": "znXhmOXRRfG3"
      },
      "outputs": [],
      "source": [
        "books['authors'] = books['authors'].apply(lambda x: [str.lower(i.replace(\" \", \"\")) for i in x.split(', ')])"
      ]
    },
    {
      "cell_type": "code",
      "execution_count": null,
      "metadata": {
        "colab": {
          "background_save": true
        },
        "id": "uhTk-1a0RfG4"
      },
      "outputs": [],
      "source": [
        "def get_genres(x):\n",
        "    t = book_tags[book_tags.goodreads_book_id==x]\n",
        "    return [i.lower().replace(\" \", \"\") for i in tags.tag_name.loc[t.tag_id].values]"
      ]
    },
    {
      "cell_type": "code",
      "execution_count": null,
      "metadata": {
        "id": "PEEsNIACRfG4"
      },
      "outputs": [],
      "source": [
        "books['genres'] = books.book_id.apply(get_genres)"
      ]
    },
    {
      "cell_type": "code",
      "execution_count": null,
      "metadata": {
        "id": "exBZcBx0RfG4"
      },
      "outputs": [],
      "source": [
        "books['soup'] = books.apply(lambda x: ' '.join([x['title']] + x['authors'] + x['genres']), axis=1)"
      ]
    },
    {
      "cell_type": "code",
      "execution_count": null,
      "metadata": {
        "id": "M7c7ZdIcRfG5"
      },
      "outputs": [],
      "source": [
        "books.soup.head()"
      ]
    },
    {
      "cell_type": "code",
      "execution_count": null,
      "metadata": {
        "id": "o95K5lsURfG5"
      },
      "outputs": [],
      "source": [
        "#books=books.head(1000)"
      ]
    },
    {
      "cell_type": "code",
      "execution_count": null,
      "metadata": {
        "id": "PGFJM15gRfG6"
      },
      "outputs": [],
      "source": [
        "count = CountVectorizer(analyzer='word',ngram_range=(1, 2),min_df=0, stop_words='english')\n",
        "count_matrix = count.fit_transform(books['soup'])"
      ]
    },
    {
      "cell_type": "code",
      "execution_count": null,
      "metadata": {
        "id": "WKf1vp0nRfG6"
      },
      "outputs": [],
      "source": [
        "# for c in count_matrix:\n",
        "#     print(c)\n",
        "#count_matrix=count_matrix.head(10000)\n",
        "type(count_matrix)"
      ]
    },
    {
      "cell_type": "markdown",
      "metadata": {
        "id": "-NjYIRXvRfG6"
      },
      "source": [
        "# Cosine Similarity"
      ]
    },
    {
      "cell_type": "code",
      "execution_count": null,
      "metadata": {
        "id": "8oYLjPvrRfG7"
      },
      "outputs": [],
      "source": [
        "cosine_sim = cosine_similarity(count_matrix, count_matrix)\n",
        "indices = pd.Series(books.index, index=books['title'])\n",
        "titles = books['title']"
      ]
    },
    {
      "cell_type": "code",
      "execution_count": null,
      "metadata": {
        "id": "9bMge6PWRfG7"
      },
      "outputs": [],
      "source": [
        "#cosine_sim"
      ]
    },
    {
      "cell_type": "code",
      "execution_count": null,
      "metadata": {
        "id": "kv_cfGO0RfG8"
      },
      "outputs": [],
      "source": [
        "def get_recommendations(title, n=10):\n",
        "    idx = indices[title]\n",
        "    sim_scores = list(enumerate(cosine_sim[idx]))\n",
        "    sim_scores = sorted(sim_scores, key=lambda x: x[1], reverse=True)\n",
        "    sim_scores = sim_scores[1:31]\n",
        "    book_indices = [i[0] for i in sim_scores]\n",
        "    return list(titles.iloc[book_indices].values)[:n]"
      ]
    },
    {
      "cell_type": "code",
      "execution_count": null,
      "metadata": {
        "id": "PEge93YOMnan"
      },
      "outputs": [],
      "source": [
        "get_recommendations(\"The One Minute Manager\")"
      ]
    },
    {
      "cell_type": "code",
      "execution_count": null,
      "metadata": {
        "id": "CCv16C4zRfG8"
      },
      "outputs": [],
      "source": [
        "#get_recommendations(\"The Mark of Athena (The Heroes of Olympus, #3)\")"
      ]
    },
    {
      "cell_type": "code",
      "execution_count": null,
      "metadata": {
        "id": "O97yA3o9RfG8"
      },
      "outputs": [],
      "source": [
        "#get_recommendations(\"The Nightingale\")"
      ]
    },
    {
      "cell_type": "code",
      "execution_count": null,
      "metadata": {
        "id": "qxr3Nwg3RfG9"
      },
      "outputs": [],
      "source": [
        "get_recommendations(\"Harry Potter Boxset (Harry Potter, #1-7)\")"
      ]
    },
    {
      "cell_type": "code",
      "execution_count": null,
      "metadata": {
        "id": "ckngImnQRfG9"
      },
      "outputs": [],
      "source": [
        "def get_name_from_partial(title):\n",
        "    return list(books.title[books.title.str.lower().str.contains(title) == True].values)"
      ]
    },
    {
      "cell_type": "code",
      "execution_count": null,
      "metadata": {
        "id": "CvMbSQ8cM5yt"
      },
      "outputs": [],
      "source": [
        "title = \"business\" #Cold start\n",
        "l = get_name_from_partial(title)\n",
        "list(enumerate(l))"
      ]
    },
    {
      "cell_type": "code",
      "execution_count": null,
      "metadata": {
        "id": "yPgCsUraRfG9"
      },
      "outputs": [],
      "source": [
        "# title = \"tale\"\n",
        "# l = get_name_from_partial(title)\n",
        "# list(enumerate(l))"
      ]
    },
    {
      "cell_type": "code",
      "execution_count": null,
      "metadata": {
        "id": "MDLI8ErtRfG-"
      },
      "outputs": [],
      "source": [
        "#l"
      ]
    },
    {
      "cell_type": "code",
      "execution_count": null,
      "metadata": {
        "id": "HrxFOYnxRfG-"
      },
      "outputs": [],
      "source": [
        "get_recommendations(l[1])"
      ]
    },
    {
      "cell_type": "code",
      "execution_count": null,
      "metadata": {
        "id": "6Pwj0Iw1RfG_"
      },
      "outputs": [],
      "source": [
        "def improved_recommendations(title, n=10):\n",
        "    idx = indices[title]\n",
        "    sim_scores = list(enumerate(cosine_sim[idx]))\n",
        "    sim_scores = sorted(sim_scores, key=lambda x: x[1], reverse=True)\n",
        "    sim_scores = sim_scores[1:31]\n",
        "    book_indices = [i[0] for i in sim_scores]\n",
        "    df = books.iloc[book_indices][['title', 'ratings_count', 'average_rating', 'weighted_rating']]\n",
        "\n",
        "    v = df['ratings_count']\n",
        "    m = df['ratings_count'].quantile(0.60)\n",
        "    R = df['average_rating']\n",
        "    C = df['average_rating'].mean()\n",
        "    df['weighted_rating'] = (R*v + C*m) / (v + m)\n",
        "\n",
        "    qualified = df[df['ratings_count'] >= m]\n",
        "    qualified = qualified.sort_values('weighted_rating', ascending=False)\n",
        "    return qualified.head(n)"
      ]
    },
    {
      "cell_type": "code",
      "execution_count": null,
      "metadata": {
        "id": "3iln-5gzOIR0"
      },
      "outputs": [],
      "source": [
        "improved_recommendations(\"The One Minute Manager\")"
      ]
    },
    {
      "cell_type": "code",
      "execution_count": null,
      "metadata": {
        "id": "CqXPifJhRfG_"
      },
      "outputs": [],
      "source": [
        "#improved_recommendations(\"The Nightingale\")"
      ]
    },
    {
      "cell_type": "code",
      "execution_count": null,
      "metadata": {
        "id": "IzE1kuHiRfHA"
      },
      "outputs": [],
      "source": [
        "improved_recommendations(l[1])"
      ]
    },
    {
      "cell_type": "markdown",
      "metadata": {
        "id": "P9MIHe72RfHA"
      },
      "source": [
        "# Collaborative Filtering"
      ]
    },
    {
      "cell_type": "markdown",
      "metadata": {
        "id": "Qbfy7Hw1NoDU"
      },
      "source": [
        "User Based"
      ]
    },
    {
      "cell_type": "code",
      "execution_count": null,
      "metadata": {
        "id": "th0PXz3bUqMr"
      },
      "outputs": [],
      "source": [
        "ratings1 = pd.read_csv(url_ratings)\n",
        "ratings1.head(5)\n",
        "print(ratings.shape)"
      ]
    },
    {
      "cell_type": "code",
      "execution_count": null,
      "metadata": {
        "id": "ygpAs2FdUqQv"
      },
      "outputs": [],
      "source": [
        "n_users = ratings1.user_id.unique().shape[0]\n",
        "n_books = ratings1.book_id.unique().shape[0]\n",
        "print(\"The database contains ratings from\", n_users, \"users for\", n_books, \"books.\")"
      ]
    },
    {
      "cell_type": "code",
      "execution_count": null,
      "metadata": {
        "id": "yc1zZiHtUqU5"
      },
      "outputs": [],
      "source": [
        "#Create user-book matrix of rating\n",
        "data_matrix = np.zeros((n_users, n_books))\n",
        "for line in ratings1.itertuples():\n",
        "    data_matrix[line[2]-1, line[1]-1] = line[3]"
      ]
    },
    {
      "cell_type": "code",
      "execution_count": null,
      "metadata": {
        "id": "UMy_vC43UqdH"
      },
      "outputs": [],
      "source": [
        "#Explore how many books a user rated\n",
        "user_row = 314 # set user_id to explore here"
      ]
    },
    {
      "cell_type": "code",
      "execution_count": null,
      "metadata": {
        "id": "ULY4jZ0zUqgl"
      },
      "outputs": [],
      "source": [
        "n_books_rated = 0\n",
        "for book in range(0, n_books):\n",
        "    if data_matrix[user_row, book] != 0:\n",
        "        n_books_rated += 1\n",
        "print(n_books_rated)"
      ]
    },
    {
      "cell_type": "code",
      "execution_count": null,
      "metadata": {
        "id": "Vpio1rx9Uqjb"
      },
      "outputs": [],
      "source": [
        "#Calculate how many books all users rated\n",
        "books_rated = np.zeros(n_users)\n",
        "for user in range(0, n_users):\n",
        "    books_rated[user] = np.count_nonzero(data_matrix[user])"
      ]
    },
    {
      "cell_type": "code",
      "execution_count": null,
      "metadata": {
        "id": "haLqwIHdK1vr"
      },
      "outputs": [],
      "source": [
        "#plt.figure(figsize=(15,5))\n",
        "plt.hist(books_rated, bins = [0, 5, 10, 15, 20, 25, 30, 40, 50, 60, 80, 100, 200])"
      ]
    },
    {
      "cell_type": "code",
      "execution_count": null,
      "metadata": {
        "id": "E0KfmqoD8e26"
      },
      "outputs": [],
      "source": []
    },
    {
      "cell_type": "markdown",
      "metadata": {
        "id": "J_8Ie9_HLChK"
      },
      "source": [
        "Calculate cosine similarity between two users"
      ]
    },
    {
      "cell_type": "code",
      "execution_count": null,
      "metadata": {
        "id": "-bCQ0aX6K13B"
      },
      "outputs": [],
      "source": [
        "def cos_similar(u, v):\n",
        "    return np.dot(u,v)/np.linalg.norm(u)/np.linalg.norm(v)"
      ]
    },
    {
      "cell_type": "code",
      "execution_count": null,
      "metadata": {
        "id": "r1RXfbOhK16U"
      },
      "outputs": [],
      "source": [
        "cos_similar(data_matrix[2000], data_matrix[2000]) # similarity of itself"
      ]
    },
    {
      "cell_type": "code",
      "execution_count": null,
      "metadata": {
        "id": "KjGVXGRbK19o"
      },
      "outputs": [],
      "source": [
        "cos_similar(data_matrix[2000], data_matrix[2001]) # similarity with other user"
      ]
    },
    {
      "cell_type": "code",
      "execution_count": null,
      "metadata": {
        "id": "Xy4Oz7tRK2AV"
      },
      "outputs": [],
      "source": [
        "#Find k most similar users for a given user\n",
        "similar = np.zeros(n_users)\n",
        "for user in range(0, n_users):\n",
        "    similar[user] = cos_similar(data_matrix[user_row], data_matrix[user])"
      ]
    },
    {
      "cell_type": "code",
      "execution_count": null,
      "metadata": {
        "id": "taxoTTLLUqmM"
      },
      "outputs": [],
      "source": [
        "print(\"This user read\", np.count_nonzero(data_matrix[user_row]), \"books.\")\n",
        "print(\"There are\", np.count_nonzero(similar), \"users that read at least one same book as this user.\")"
      ]
    },
    {
      "cell_type": "code",
      "execution_count": null,
      "metadata": {
        "id": "aiNjlIPiLXVz"
      },
      "outputs": [],
      "source": [
        "#plt.figure(figsize=(15,5))\n",
        "plt.hist(similar, bins = [0.005, 0.01, 0.02, 0.03, 0.05, 0.1, 0.2, 0.3, 0.5, 1])"
      ]
    },
    {
      "cell_type": "code",
      "execution_count": null,
      "metadata": {
        "id": "9UadcVUyLXdW"
      },
      "outputs": [],
      "source": [
        "top_similar = np.where(similar > 0.2)[0] # top similar users\n",
        "print(top_similar)"
      ]
    },
    {
      "cell_type": "code",
      "execution_count": null,
      "metadata": {
        "id": "8NBrz0AcLXka"
      },
      "outputs": [],
      "source": [
        "for user in top_similar:\n",
        "    if user != user_row:\n",
        "        print(\"Other similar users/recommenders read\", np.count_nonzero(data_matrix[user]), \"books.\")"
      ]
    },
    {
      "cell_type": "code",
      "execution_count": null,
      "metadata": {
        "id": "e87rzqtKLXqr"
      },
      "outputs": [],
      "source": [
        "#Avg rating among top users\n",
        "books_rating = np.zeros(n_books)\n",
        "for user in top_similar:\n",
        "    books_rating += data_matrix[user]/len(top_similar)\n",
        "plt.hist(books_rating, bins = [1,2,3,4,5,6])"
      ]
    },
    {
      "cell_type": "code",
      "execution_count": null,
      "metadata": {
        "id": "YTRtdnnSLX2y"
      },
      "outputs": [],
      "source": [
        "#Keeping highly rated books\n",
        "best_book = np.where(books_rating == max(books_rating))[0][0]\n",
        "print(best_book)"
      ]
    },
    {
      "cell_type": "code",
      "execution_count": null,
      "metadata": {
        "id": "ocq7lMOLLyBz"
      },
      "outputs": [],
      "source": [
        "good_book = np.where(books_rating > max(books_rating)/4)[0]\n",
        "print(good_book, len(good_book))"
      ]
    },
    {
      "cell_type": "code",
      "execution_count": null,
      "metadata": {
        "id": "iB8CTFWSLyLh"
      },
      "outputs": [],
      "source": [
        "#Identify which book the user already read\n",
        "read_book = np.where(data_matrix[user_row] != 0)[0]\n",
        "print(read_book)"
      ]
    },
    {
      "cell_type": "code",
      "execution_count": null,
      "metadata": {
        "id": "zS4gBnqgL94h"
      },
      "outputs": [],
      "source": [
        "books.head(1)"
      ]
    },
    {
      "cell_type": "code",
      "execution_count": null,
      "metadata": {
        "id": "Aya_aO6BL-EJ"
      },
      "outputs": [],
      "source": [
        "print(\"The user rated the following books:\")\n",
        "books.loc[books['id'].isin(read_book)]"
      ]
    },
    {
      "cell_type": "code",
      "execution_count": null,
      "metadata": {
        "id": "5gaWDZkLMVYK"
      },
      "outputs": [],
      "source": [
        "books.loc[books['id'].isin(read_book)].shape\n"
      ]
    },
    {
      "cell_type": "code",
      "execution_count": null,
      "metadata": {
        "id": "M9_Ve--7MViy"
      },
      "outputs": [],
      "source": [
        "recommend_book = np.delete(good_book, np.where(np.isin(good_book, read_book)))"
      ]
    },
    {
      "cell_type": "code",
      "execution_count": null,
      "metadata": {
        "id": "OCJyslrmM-rH"
      },
      "outputs": [],
      "source": [
        "print(\"Recommended books for the users are:\")\n",
        "books.loc[books['id'].isin(recommend_book)]"
      ]
    },
    {
      "cell_type": "code",
      "execution_count": null,
      "metadata": {
        "id": "T190ro3pKmLY"
      },
      "outputs": [],
      "source": [
        "books.loc[books['id'].isin(recommend_book)].shape"
      ]
    },
    {
      "cell_type": "code",
      "execution_count": null,
      "metadata": {
        "id": "ErqxIdaoLyXs"
      },
      "outputs": [],
      "source": []
    },
    {
      "cell_type": "markdown",
      "metadata": {
        "id": "ND-I2ZrcRfHD"
      },
      "source": [
        "# Item Based\n"
      ]
    },
    {
      "cell_type": "code",
      "execution_count": null,
      "metadata": {
        "id": "9VymDBviTzZd"
      },
      "outputs": [],
      "source": [
        "new_ratings=new_ratings[:100000]"
      ]
    },
    {
      "cell_type": "code",
      "execution_count": null,
      "metadata": {
        "id": "OBseM5YERfHE"
      },
      "outputs": [],
      "source": [
        "bookmat = new_ratings.pivot_table(index='user_id', columns='title', values='rating')\n",
        "bookmat.head()"
      ]
    },
    {
      "cell_type": "code",
      "execution_count": null,
      "metadata": {
        "id": "Lx-0Tf7ORfHE"
      },
      "outputs": [],
      "source": [
        "def get_similar(title, mat):\n",
        "    title_user_ratings = mat[title]\n",
        "    similar_to_title = mat.corrwith(title_user_ratings)\n",
        "    corr_title = pd.DataFrame(similar_to_title, columns=['correlation'])\n",
        "    corr_title.dropna(inplace=True)\n",
        "    corr_title.sort_values('correlation', ascending=False, inplace=True)\n",
        "    return corr_title"
      ]
    },
    {
      "cell_type": "code",
      "execution_count": null,
      "metadata": {
        "id": "vtbwYcc7RfHE"
      },
      "outputs": [],
      "source": [
        "title = \"Twilight (Twilight, #1)\"\n",
        "smlr = get_similar(title, bookmat)\n",
        "smlr.head(10)"
      ]
    },
    {
      "cell_type": "code",
      "execution_count": null,
      "metadata": {
        "id": "aSYrqoZLRfHF"
      },
      "outputs": [],
      "source": [
        "smlr = smlr.join(books.set_index('title')['ratings_count'])\n",
        "smlr.head()"
      ]
    },
    {
      "cell_type": "code",
      "execution_count": null,
      "metadata": {
        "id": "oJ2HdV5URfHF"
      },
      "outputs": [],
      "source": [
        "smlr[smlr.ratings_count > 5e5].sort_values('correlation', ascending=False).head(10)"
      ]
    },
    {
      "cell_type": "markdown",
      "metadata": {
        "id": "gnoJO-IRRfHF"
      },
      "source": [
        "# Hybrid recommender"
      ]
    },
    {
      "cell_type": "code",
      "execution_count": null,
      "metadata": {
        "id": "avJJQBd6OJi5"
      },
      "outputs": [],
      "source": []
    },
    {
      "cell_type": "code",
      "execution_count": null,
      "metadata": {
        "id": "rhrbvGhgRfHF"
      },
      "outputs": [],
      "source": [
        "# def hybrid(user_id, title, n=10):\n",
        "#     idx = indices[title]\n",
        "#     sim_scores = list(enumerate(cosine_sim[idx]))\n",
        "#     sim_scores = sorted(sim_scores, key=lambda x: x[1], reverse=True)\n",
        "#     sim_scores = sim_scores[1:51]\n",
        "#     book_indices = [i[0] for i in sim_scores]\n",
        "\n",
        "#     df = books.iloc[book_indices][['book_id', 'title', 'original_publication_year', 'ratings_count', 'average_rating']]\n",
        "#     df['est'] = df['book_id'].apply(lambda x: svd.predict(user_id, x).est)\n",
        "#     df = df.sort_values('est', ascending=False)\n",
        "#     return df.head(n)"
      ]
    },
    {
      "cell_type": "code",
      "execution_count": null,
      "metadata": {
        "id": "77WbaJoFQL4J"
      },
      "outputs": [],
      "source": [
        "# hybrid(4, 'Eat, Pray, Love')"
      ]
    },
    {
      "cell_type": "code",
      "execution_count": null,
      "metadata": {
        "id": "qbSugzlqRfHG"
      },
      "outputs": [],
      "source": [
        "# hybrid(10, 'Eat, Pray, Love')"
      ]
    },
    {
      "cell_type": "code",
      "execution_count": null,
      "metadata": {
        "id": "vycjAgI9RfHG"
      },
      "outputs": [],
      "source": [
        "#hybrid(35, 'The Night Circus')"
      ]
    },
    {
      "cell_type": "code",
      "execution_count": null,
      "metadata": {
        "id": "tQWZfJzYRfHG"
      },
      "outputs": [],
      "source": [
        "# def improved_hybrid(user_id, title, n=10):\n",
        "#     idx = indices[title]\n",
        "#     sim_scores = list(enumerate(cosine_sim[idx]))\n",
        "#     sim_scores = sorted(sim_scores, key=lambda x: x[1], reverse=True)\n",
        "#     sim_scores = sim_scores[1:51]\n",
        "#     book_indices = [i[0] for i in sim_scores]\n",
        "\n",
        "#     df = books.iloc[book_indices][['book_id', 'title', 'ratings_count', 'average_rating', 'original_publication_year']]\n",
        "#     v = df['ratings_count']\n",
        "#     m = df['ratings_count'].quantile(0.60)\n",
        "#     R = df['average_rating']\n",
        "#     C = df['average_rating'].mean()\n",
        "#     df['weighted_rating'] = (R*v + C*m) / (v + m)\n",
        "\n",
        "#     df['est'] = df['book_id'].apply(lambda x: svd.predict(user_id, x).est)\n",
        "\n",
        "#     df['score'] = (df['est'] + df['weighted_rating']) / 2\n",
        "#     df = df.sort_values('score', ascending=False)\n",
        "#     return df[['book_id', 'title', 'original_publication_year', 'ratings_count', 'average_rating', 'score']].head(n)\n"
      ]
    },
    {
      "cell_type": "code",
      "execution_count": null,
      "metadata": {
        "id": "dKcni5VWRfHH"
      },
      "outputs": [],
      "source": [
        "# improved_hybrid(4, 'Eat, Pray, Love')"
      ]
    },
    {
      "cell_type": "code",
      "execution_count": null,
      "metadata": {
        "id": "Nlk77kdGRfHH"
      },
      "outputs": [],
      "source": [
        "# improved_hybrid(10, 'Eat, Pray, Love')"
      ]
    },
    {
      "cell_type": "code",
      "execution_count": null,
      "metadata": {
        "id": "RZars-ASRfHH"
      },
      "outputs": [],
      "source": [
        "#new_ratings.shape"
      ]
    },
    {
      "cell_type": "code",
      "execution_count": null,
      "metadata": {
        "id": "mbcFoRpHRfHH"
      },
      "outputs": [],
      "source": [
        "#books.shape"
      ]
    },
    {
      "cell_type": "code",
      "execution_count": null,
      "metadata": {
        "id": "u20xJx5-RfHI"
      },
      "outputs": [],
      "source": [
        "#improved_hybrid(35, 'The Last Lecture')"
      ]
    },
    {
      "cell_type": "code",
      "execution_count": null,
      "metadata": {
        "id": "pZ7Ok4mhHMjJ"
      },
      "outputs": [],
      "source": [
        "# improved_hybrid(314, 'The Last Lecture')"
      ]
    },
    {
      "cell_type": "code",
      "execution_count": null,
      "metadata": {
        "id": "aLrofPsTHXIt"
      },
      "outputs": [],
      "source": [
        "#ratings = pd.read_csv('CustomData/ratings.csv')\n",
        "ratings = pd.read_csv(url_ratings)\n",
        "#taking only the first 100000 ratings\n",
        "ratings=ratings[1:100000]"
      ]
    },
    {
      "cell_type": "code",
      "execution_count": null,
      "metadata": {
        "id": "yf8_x6zSNCxs"
      },
      "outputs": [],
      "source": [
        "print(\"\\nHybrid accuracy\")\n",
        "temp_ratings = ratings\n",
        "data = Dataset.load_from_df(temp_ratings[['user_id', 'book_id', 'rating']], reader)\n",
        "algo = SVD()\n",
        "cross_validate(algo, data, measures=['RMSE', 'MAE'], cv=5, verbose=True)"
      ]
    },
    {
      "cell_type": "code",
      "execution_count": null,
      "metadata": {
        "id": "o3lXeqjFNI9t"
      },
      "outputs": [],
      "source": []
    }
  ],
  "metadata": {
    "colab": {
      "toc_visible": true,
      "provenance": [],
      "include_colab_link": true
    },
    "kernelspec": {
      "display_name": "Python 3",
      "language": "python",
      "name": "python3"
    },
    "language_info": {
      "codemirror_mode": {
        "name": "ipython",
        "version": 3
      },
      "file_extension": ".py",
      "mimetype": "text/x-python",
      "name": "python",
      "nbconvert_exporter": "python",
      "pygments_lexer": "ipython3",
      "version": "3.7.1"
    }
  },
  "nbformat": 4,
  "nbformat_minor": 0
}